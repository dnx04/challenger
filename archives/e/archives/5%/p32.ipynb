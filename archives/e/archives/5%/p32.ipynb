{
 "cells": [
  {
   "cell_type": "markdown",
   "metadata": {},
   "source": [
    "# [Project Euler 32 - Pandigital products](https://projecteuler.net/problem=32)\n",
    "\n",
    "Assume $a \\le b$. In $a \\times b = c$, $c$ has at most $4$ digits, so it prunes a lot of unnecessary cases."
   ]
  },
  {
   "cell_type": "code",
   "execution_count": 109,
   "metadata": {},
   "outputs": [],
   "source": [
    "def p32():\n",
    "    ans_set = set()\n",
    "    for ss in Subsets(9, 5):\n",
    "        for p in Permutations(ss):\n",
    "            a = p[0] * 10 + p[1]\n",
    "            b = p[2] * 100 + p[3] * 10 + p[4]\n",
    "            if ''.join(sorted(str(a) + str(b) + str(a * b))) == str(123456789):\n",
    "                ans_set.add(a * b)\n",
    "            a = p[0]\n",
    "            b = p[1] * 1000 + p[2] * 100 + p[3] * 10 + p[4]\n",
    "            if ''.join(sorted(str(a) + str(b) + str(a * b))) == str(123456789):\n",
    "                ans_set.add(a * b)\n",
    "    return sum(ans_set)"
   ]
  },
  {
   "cell_type": "code",
   "execution_count": 110,
   "metadata": {},
   "outputs": [
    {
     "data": {
      "text/plain": [
       "45228"
      ]
     },
     "execution_count": 110,
     "metadata": {},
     "output_type": "execute_result"
    }
   ],
   "source": [
    "p32()"
   ]
  }
 ],
 "metadata": {
  "kernelspec": {
   "display_name": "SageMath 9.5",
   "language": "sage",
   "name": "sagemath"
  },
  "language_info": {
   "codemirror_mode": {
    "name": "ipython",
    "version": 3
   },
   "file_extension": ".py",
   "mimetype": "text/x-python",
   "name": "python",
   "nbconvert_exporter": "python",
   "pygments_lexer": "ipython3",
   "version": "3.10.5"
  },
  "orig_nbformat": 4
 },
 "nbformat": 4,
 "nbformat_minor": 2
}
