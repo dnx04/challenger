{
 "cells": [
  {
   "cell_type": "markdown",
   "metadata": {},
   "source": [
    "# [Project Euler 37 - Truncatable primes](https://projecteuler.net/problem=37)"
   ]
  },
  {
   "cell_type": "code",
   "execution_count": 15,
   "metadata": {},
   "outputs": [],
   "source": [
    "def p37():\n",
    "    P = Primes()\n",
    "    cnt = 0\n",
    "    ans = 0\n",
    "    for p in P:\n",
    "        if cnt == 11:\n",
    "            break\n",
    "        if p < 10:\n",
    "            continue\n",
    "        left = [int(str(p)[:i + 1]) for i in range(len(str(p)))]\n",
    "        right = [int(str(p)[-i - 1:]) for i in range(len(str(p)))]\n",
    "        if all([is_prime(x) for x in left]) and all([is_prime(x) for x in right]):\n",
    "            cnt += 1\n",
    "            ans += p\n",
    "    return ans"
   ]
  },
  {
   "cell_type": "code",
   "execution_count": 16,
   "metadata": {},
   "outputs": [
    {
     "data": {
      "text/plain": [
       "748317"
      ]
     },
     "execution_count": 16,
     "metadata": {},
     "output_type": "execute_result"
    }
   ],
   "source": [
    "p37()"
   ]
  }
 ],
 "metadata": {
  "kernelspec": {
   "display_name": "SageMath 9.5",
   "language": "sage",
   "name": "sagemath"
  },
  "language_info": {
   "codemirror_mode": {
    "name": "ipython",
    "version": 3
   },
   "file_extension": ".py",
   "mimetype": "text/x-python",
   "name": "python",
   "nbconvert_exporter": "python",
   "pygments_lexer": "ipython3",
   "version": "3.10.5"
  },
  "orig_nbformat": 4
 },
 "nbformat": 4,
 "nbformat_minor": 2
}
