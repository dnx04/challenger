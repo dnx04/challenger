{
 "cells": [
  {
   "cell_type": "markdown",
   "metadata": {},
   "source": [
    "# [Project Euler 31 - Coin sums](https://projecteuler.net/problem=31)\n",
    "\n",
    "The classic DP problem - coin change."
   ]
  },
  {
   "cell_type": "code",
   "execution_count": 9,
   "metadata": {},
   "outputs": [],
   "source": [
    "from functools import cache"
   ]
  },
  {
   "cell_type": "code",
   "execution_count": 10,
   "metadata": {},
   "outputs": [],
   "source": [
    "coins = [1, 2, 5, 10, 20, 50, 100, 200]\n",
    "\n",
    "@cache\n",
    "def dp(n, k):\n",
    "    if k == 0:\n",
    "        if n == 0:\n",
    "            return 1\n",
    "        return 0\n",
    "    i = 0\n",
    "    res = 0\n",
    "    while coins[k - 1] * i <= n:\n",
    "        res += dp(n - coins[k - 1] * i, k - 1)\n",
    "        i += 1\n",
    "    return res\n",
    "\n",
    "def p31(n):\n",
    "    return dp(n, len(coins))"
   ]
  },
  {
   "cell_type": "code",
   "execution_count": 11,
   "metadata": {},
   "outputs": [
    {
     "data": {
      "text/plain": [
       "73682"
      ]
     },
     "execution_count": 11,
     "metadata": {},
     "output_type": "execute_result"
    }
   ],
   "source": [
    "p31(200)"
   ]
  }
 ],
 "metadata": {
  "kernelspec": {
   "display_name": "Python 3.10.5 64-bit",
   "language": "python",
   "name": "python3"
  },
  "language_info": {
   "codemirror_mode": {
    "name": "ipython",
    "version": 3
   },
   "file_extension": ".py",
   "mimetype": "text/x-python",
   "name": "python",
   "nbconvert_exporter": "python",
   "pygments_lexer": "ipython3",
   "version": "3.10.5"
  },
  "orig_nbformat": 4,
  "vscode": {
   "interpreter": {
    "hash": "916dbcbb3f70747c44a77c7bcd40155683ae19c65e1c03b4aa3499c5328201f1"
   }
  }
 },
 "nbformat": 4,
 "nbformat_minor": 2
}
