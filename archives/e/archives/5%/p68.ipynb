{
 "cells": [
  {
   "cell_type": "markdown",
   "metadata": {},
   "source": [
    "# [Project Euler 68 - Magic 5-gon ring](https://projecteuler.net/thread=68)"
   ]
  },
  {
   "cell_type": "code",
   "execution_count": 50,
   "metadata": {},
   "outputs": [],
   "source": [
    "def p68(n):\n",
    "  ans = 0\n",
    "  for p in Permutations(n):\n",
    "    ok = True\n",
    "    for i in range(n // 2):\n",
    "      if p[i] <= n // 2:\n",
    "        ok = False\n",
    "        break\n",
    "    ok = ok and (p[0] == n // 2 + 1)\n",
    "    if ok:\n",
    "      if len(set(p[i] + p[n // 2 + i % (n // 2)] + p[n // 2 + (i + 1) % (n // 2)] for i in range(n // 2))) == 1:\n",
    "        res = ''.join([str(p[i]) + str(p[n // 2 + i % (n // 2)]) + str(p[n // 2 + (i + 1) % (n // 2)])\n",
    "                      for i in range(n // 2)])\n",
    "        ans = max(ans, int(res))\n",
    "  return ans\n"
   ]
  },
  {
   "cell_type": "code",
   "execution_count": 51,
   "metadata": {},
   "outputs": [
    {
     "data": {
      "text/plain": [
       "6531031914842725"
      ]
     },
     "execution_count": 51,
     "metadata": {},
     "output_type": "execute_result"
    }
   ],
   "source": [
    "p68(10)"
   ]
  }
 ],
 "metadata": {
  "kernelspec": {
   "display_name": "Python 3.10.5 64-bit",
   "language": "python",
   "name": "python3"
  },
  "language_info": {
   "codemirror_mode": {
    "name": "ipython",
    "version": 3
   },
   "file_extension": ".py",
   "mimetype": "text/x-python",
   "name": "python",
   "nbconvert_exporter": "python",
   "pygments_lexer": "ipython3",
   "version": "3.10.5"
  },
  "orig_nbformat": 4,
  "vscode": {
   "interpreter": {
    "hash": "916dbcbb3f70747c44a77c7bcd40155683ae19c65e1c03b4aa3499c5328201f1"
   }
  }
 },
 "nbformat": 4,
 "nbformat_minor": 2
}
