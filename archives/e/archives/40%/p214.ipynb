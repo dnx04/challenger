{
 "cells": [
  {
   "cell_type": "markdown",
   "metadata": {},
   "source": [
    "# [Project Euler 214 - Totient Chains](https://projecteuler.net/problem=214)\n",
    "\n",
    "Since $n = 4 \\times 10^7$ is small enough, one can calculate all $\\varphi(i)$ for $i \\in [1, n)$ in $\\mathcal{O}(n \\log \\log n)$. The method is described [here](https://cp-algorithms.com/algebra/phi-function.html#implementation), and it's pretty easy to understand.\n",
    "\n",
    "The rest is pretty straightforward, iterating primes, construct the sequences and terminate when the length of the sequence exceeded the threshold."
   ]
  },
  {
   "cell_type": "code",
   "execution_count": 19,
   "metadata": {},
   "outputs": [],
   "source": [
    "def eval_phi(n):\n",
    "    phi = [i for i in range(n)]\n",
    "    for i in range(2, n):\n",
    "        if phi[i] == i:\n",
    "            for j in range(i, n, i):\n",
    "                phi[j] -= phi[j] // i\n",
    "    return phi"
   ]
  },
  {
   "cell_type": "code",
   "execution_count": 20,
   "metadata": {},
   "outputs": [],
   "source": [
    "def p214(n, req_len):\n",
    "    phi = eval_phi(n)\n",
    "    P = Primes()\n",
    "    ans = 0\n",
    "    for p in P:\n",
    "        tmp = p\n",
    "        if p >= n:\n",
    "            break\n",
    "        l = 1\n",
    "        while tmp > 1 and l < req_len:\n",
    "            tmp = phi[tmp]\n",
    "            l += 1\n",
    "        if tmp == 1 and l == req_len:\n",
    "            ans += p\n",
    "    return ans"
   ]
  },
  {
   "cell_type": "code",
   "execution_count": 21,
   "metadata": {},
   "outputs": [
    {
     "data": {
      "text/plain": [
       "1677366278943"
      ]
     },
     "execution_count": 21,
     "metadata": {},
     "output_type": "execute_result"
    }
   ],
   "source": [
    "p214(4 * 10^7, 25)"
   ]
  }
 ],
 "metadata": {
  "kernelspec": {
   "display_name": "Python 3.10.5 64-bit",
   "language": "python",
   "name": "python3"
  },
  "language_info": {
   "codemirror_mode": {
    "name": "ipython",
    "version": 3
   },
   "file_extension": ".py",
   "mimetype": "text/x-python",
   "name": "python",
   "nbconvert_exporter": "python",
   "pygments_lexer": "ipython3",
   "version": "3.10.5"
  },
  "orig_nbformat": 4,
  "vscode": {
   "interpreter": {
    "hash": "916dbcbb3f70747c44a77c7bcd40155683ae19c65e1c03b4aa3499c5328201f1"
   }
  }
 },
 "nbformat": 4,
 "nbformat_minor": 2
}
