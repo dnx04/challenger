{
 "cells": [
  {
   "cell_type": "markdown",
   "metadata": {},
   "source": [
    "# [Project Euler 131 - Prime cube partnership](https://projecteuler.net/problem=131)\n",
    "\n",
    "From $n^2(n + p) = k^3 = n^3 \\left(\\frac{n + p}{n} \\right) = k^3$, we see that both $n$ and $n + p$ must be cube.\n",
    "\n",
    "Let $n = a^3, n + p = b^3$ for some integer $a, b$, then we have $p = (b - a)(b^2 + ba + a^2)$. It's easy to see that $b - a$ must be $1$, which means $p = (i + 1)^3 - i^3$ for some $i$. What left is a simple and elegant implementation.\n",
    "\n",
    "The complexity of this solution is $\\mathcal{O}(\\sqrt[3]{n})$, which is even enough for much higher constraints, like $n = 10^{18}$."
   ]
  },
  {
   "cell_type": "code",
   "execution_count": 17,
   "metadata": {},
   "outputs": [],
   "source": [
    "def p131(threshold):\n",
    "    i = 1\n",
    "    ans = 0\n",
    "    while True:\n",
    "        if (i + 1)^3 - i^3 >= threshold:\n",
    "            break\n",
    "        if is_prime((i + 1)^3 - i^3):\n",
    "            ans += 1\n",
    "        i += 1\n",
    "    return ans"
   ]
  },
  {
   "cell_type": "code",
   "execution_count": 18,
   "metadata": {},
   "outputs": [
    {
     "data": {
      "text/plain": [
       "173"
      ]
     },
     "execution_count": 18,
     "metadata": {},
     "output_type": "execute_result"
    }
   ],
   "source": [
    "p131(10^6)"
   ]
  }
 ],
 "metadata": {
  "kernelspec": {
   "display_name": "SageMath 9.5",
   "language": "sage",
   "name": "sagemath"
  },
  "language_info": {
   "codemirror_mode": {
    "name": "ipython",
    "version": 3
   },
   "file_extension": ".py",
   "mimetype": "text/x-python",
   "name": "python",
   "nbconvert_exporter": "python",
   "pygments_lexer": "ipython3",
   "version": "3.10.5"
  },
  "orig_nbformat": 4
 },
 "nbformat": 4,
 "nbformat_minor": 2
}
