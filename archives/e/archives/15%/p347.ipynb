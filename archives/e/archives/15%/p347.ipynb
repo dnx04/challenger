{
 "cells": [
  {
   "cell_type": "markdown",
   "metadata": {},
   "source": [
    "# [Project Euler 347 - Largest integer divisible by two primes](https://projecteuler.net/problem=347)\n",
    "\n",
    "$M(p, q, N)$ can be calculated greedily, and looping through all pair of primes with product $\\le N = 10^7$ is fast because their quantity is not so much. "
   ]
  },
  {
   "cell_type": "code",
   "execution_count": 41,
   "metadata": {},
   "outputs": [],
   "source": [
    "def M(p, q, N):\n",
    "    res = 1\n",
    "    while res <= N // q:\n",
    "        res *= p\n",
    "    mx = 0\n",
    "    while res % p == 0:\n",
    "        res //= p\n",
    "        while res * q <= N:\n",
    "            res *= q\n",
    "        if res % p == 0 and res % q == 0:\n",
    "            mx = max(mx, res)\n",
    "    return mx"
   ]
  },
  {
   "cell_type": "code",
   "execution_count": 42,
   "metadata": {},
   "outputs": [],
   "source": [
    "def p347(n):\n",
    "    S = set()\n",
    "    P = prime_range(n // 2)\n",
    "    for i in range(len(P)):\n",
    "        for j in range(i + 1, len(P)):\n",
    "            if P[i] * P[j] <= n:\n",
    "                S.add(M(P[i], P[j], n))\n",
    "            else:\n",
    "                break\n",
    "    return sum(S)"
   ]
  },
  {
   "cell_type": "code",
   "execution_count": 43,
   "metadata": {},
   "outputs": [
    {
     "data": {
      "text/plain": [
       "11109800204052"
      ]
     },
     "execution_count": 43,
     "metadata": {},
     "output_type": "execute_result"
    }
   ],
   "source": [
    "p347(10^7)"
   ]
  }
 ],
 "metadata": {
  "kernelspec": {
   "display_name": "Python 3.10.5 64-bit",
   "language": "python",
   "name": "python3"
  },
  "language_info": {
   "codemirror_mode": {
    "name": "ipython",
    "version": 3
   },
   "file_extension": ".py",
   "mimetype": "text/x-python",
   "name": "python",
   "nbconvert_exporter": "python",
   "pygments_lexer": "ipython3",
   "version": "3.10.5"
  },
  "orig_nbformat": 4,
  "vscode": {
   "interpreter": {
    "hash": "916dbcbb3f70747c44a77c7bcd40155683ae19c65e1c03b4aa3499c5328201f1"
   }
  }
 },
 "nbformat": 4,
 "nbformat_minor": 2
}
