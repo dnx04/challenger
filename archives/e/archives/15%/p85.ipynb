{
 "cells": [
  {
   "cell_type": "markdown",
   "metadata": {},
   "source": [
    "# [Project Euler 85 - Counting Rectangles](https://projecteuler.net/problem=85)\n",
    "\n",
    "Let's solve the problem in 1D. The number of subarrays in an array is $\\frac{N(N + 1)}{2}$. Apply it to 2D, we obtain the number of subrectangle in a $N \\times M$ rectangle: $f(N, M) = \\frac{N(N+1)M(M+1)}{4}$.\n",
    "\n",
    "We can just bruteforce through all pairs of $(N, M)$ such that $N \\le M$ and $f(N, M) \\le 2 \\times 10^6$. The upper bound of the number of iterations does not exceed $2 \\times 10^6$."
   ]
  },
  {
   "cell_type": "code",
   "execution_count": 7,
   "metadata": {},
   "outputs": [],
   "source": [
    "def f(i, j):\n",
    "    return i * (i + 1) * j * (j + 1) // 4\n",
    "\n",
    "def p85(n):\n",
    "    ans, mn_dst = 0, Infinity\n",
    "    for i in range(1, n):\n",
    "        if f(i, i) > n:\n",
    "            break\n",
    "        for j in range(i, n):\n",
    "            if f(i, j) > n:\n",
    "                break\n",
    "            if abs(f(i, j) - n) < mn_dst:\n",
    "                mn_dst = abs(f(i, j) - n)\n",
    "                ans = i * j\n",
    "    return ans, i, j"
   ]
  },
  {
   "cell_type": "code",
   "execution_count": 8,
   "metadata": {},
   "outputs": [
    {
     "data": {
      "text/plain": [
       "(2772, 53, 54)"
      ]
     },
     "execution_count": 8,
     "metadata": {},
     "output_type": "execute_result"
    }
   ],
   "source": [
    "p85(2 * 10**6)"
   ]
  }
 ],
 "metadata": {
  "kernelspec": {
   "display_name": "Python 3.10.5 64-bit",
   "language": "python",
   "name": "python3"
  },
  "language_info": {
   "codemirror_mode": {
    "name": "ipython",
    "version": 3
   },
   "file_extension": ".py",
   "mimetype": "text/x-python",
   "name": "python",
   "nbconvert_exporter": "python",
   "pygments_lexer": "ipython3",
   "version": "3.10.5"
  },
  "orig_nbformat": 4,
  "vscode": {
   "interpreter": {
    "hash": "916dbcbb3f70747c44a77c7bcd40155683ae19c65e1c03b4aa3499c5328201f1"
   }
  }
 },
 "nbformat": 4,
 "nbformat_minor": 2
}
