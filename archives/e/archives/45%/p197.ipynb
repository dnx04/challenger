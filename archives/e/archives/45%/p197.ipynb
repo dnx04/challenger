{
 "cells": [
  {
   "cell_type": "markdown",
   "metadata": {},
   "source": [
    "# [Project Euler 197 - Investigating the behaviour of a recursively defined sequence](https://projecteuler.net/problem=197)\n",
    "\n",
    "This is an investigation problem, so intuition and alertness is needed here.\n",
    "\n",
    "$u_n + u_{n + 1}$ seems to converge at a certain value, and also when $n$ grows large enough, but still much smaller than $10^{12}$, the first 9 digits of the answer does not change at all. \n",
    "\n",
    "So one can loop until $|u_n - u_{n + 2}| \\le 10^{-9}$, and then answer $u_{n + 1} + u_{n + 2}$. "
   ]
  },
  {
   "cell_type": "code",
   "execution_count": 49,
   "metadata": {
    "vscode": {
     "languageId": "python"
    }
   },
   "outputs": [],
   "source": [
    "def f(x):\n",
    "    return float(floor(2^(30.403243784 - x^2)) * 10^(-9))"
   ]
  },
  {
   "cell_type": "code",
   "execution_count": 50,
   "metadata": {
    "vscode": {
     "languageId": "python"
    }
   },
   "outputs": [],
   "source": [
    "def p197(n):\n",
    "    u = [1]\n",
    "    while len(u) <= n + 1:\n",
    "        u.append(f(u[-1]))\n",
    "    print(u[-1] + u[-2])"
   ]
  },
  {
   "cell_type": "code",
   "execution_count": 51,
   "metadata": {
    "vscode": {
     "languageId": "python"
    }
   },
   "outputs": [
    {
     "name": "stdout",
     "output_type": "stream",
     "text": [
      "1.710637717\n"
     ]
    }
   ],
   "source": [
    "p197(10^5)"
   ]
  }
 ],
 "metadata": {
  "kernelspec": {
   "display_name": "SageMath 9.5",
   "language": "sage",
   "name": "sagemath"
  },
  "language_info": {
   "codemirror_mode": {
    "name": "ipython",
    "version": 3
   },
   "file_extension": ".py",
   "mimetype": "text/x-python",
   "name": "sage",
   "nbconvert_exporter": "python",
   "pygments_lexer": "ipython3",
   "version": "3.10.5"
  },
  "orig_nbformat": 4
 },
 "nbformat": 4,
 "nbformat_minor": 2
}
