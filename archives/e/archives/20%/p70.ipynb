{
 "cells": [
  {
   "cell_type": "markdown",
   "metadata": {},
   "source": [
    "# [Project Euler 70 - Totient Permutation](https://projecteuler.net/problem=70)"
   ]
  },
  {
   "cell_type": "code",
   "execution_count": 22,
   "metadata": {},
   "outputs": [],
   "source": [
    "def phi_compute(n):\n",
    "    phi = [i for i in range(n)]\n",
    "    for i in range(2, n):\n",
    "        if phi[i] == i:\n",
    "            for j in range(i, n, i):\n",
    "                phi[j] -= phi[j] // i\n",
    "    return phi\n",
    "\n",
    "def p70(n):\n",
    "    phi = phi_compute(n)\n",
    "    ans = +Infinity\n",
    "    pick = 0\n",
    "    for i in range(2, n):\n",
    "        if ''.join(sorted(str(i))) == ''.join(sorted(str(phi[i]))):\n",
    "            if ans > QQ(i / phi[i]):\n",
    "                ans = QQ(i / phi[i])\n",
    "                pick = i\n",
    "    return ans, pick"
   ]
  },
  {
   "cell_type": "code",
   "execution_count": 23,
   "metadata": {},
   "outputs": [
    {
     "data": {
      "text/plain": [
       "(8319823/8313928, 8319823)"
      ]
     },
     "execution_count": 23,
     "metadata": {},
     "output_type": "execute_result"
    }
   ],
   "source": [
    "p70(10^7)"
   ]
  }
 ],
 "metadata": {
  "kernelspec": {
   "display_name": "Python 3.10.5 64-bit",
   "language": "python",
   "name": "python3"
  },
  "language_info": {
   "codemirror_mode": {
    "name": "ipython",
    "version": 3
   },
   "file_extension": ".py",
   "mimetype": "text/x-python",
   "name": "python",
   "nbconvert_exporter": "python",
   "pygments_lexer": "ipython3",
   "version": "3.10.5"
  },
  "orig_nbformat": 4,
  "vscode": {
   "interpreter": {
    "hash": "916dbcbb3f70747c44a77c7bcd40155683ae19c65e1c03b4aa3499c5328201f1"
   }
  }
 },
 "nbformat": 4,
 "nbformat_minor": 2
}
