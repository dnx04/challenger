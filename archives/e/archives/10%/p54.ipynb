{
 "cells": [
  {
   "cell_type": "markdown",
   "metadata": {},
   "source": [
    "# [Project Euler 54 - Poker hands](https://projecteuler.net/problem=54)\n",
    "\n",
    "Modified from [StackOverflow](https://codereview.stackexchange.com/questions/128702/poker-hands-in-python)"
   ]
  },
  {
   "cell_type": "code",
   "execution_count": 31,
   "metadata": {},
   "outputs": [],
   "source": [
    "import itertools\n",
    "\n",
    "value_dict = {'T': 10, 'J': 11, 'Q': 12, 'K': 13, 'A': 14}\n",
    "value_dict.update((str(x), x) for x in range(2,10))\n",
    "\n",
    "def eval_hand(hand):\n",
    "    # Return ranking followed by tie-break information.\n",
    "    # 8. Straight Flush\n",
    "    # 7. Four of a Kind\n",
    "    # 6. Full House\n",
    "    # 5. Flush\n",
    "    # 4. Straight\n",
    "    # 3. Three of a Kind\n",
    "    # 2. Two pair\n",
    "    # 1. One pair\n",
    "    # 0. High card\n",
    "\n",
    "    values = sorted([c[0] for c in hand], reverse=True)\n",
    "    suits = [c[1] for c in hand]\n",
    "    straight = (values == list(range(values[0], values[0]-5, -1))\n",
    "                or values == [14, 5, 4, 3, 2])\n",
    "    flush = all(s == suits[0] for s in suits)\n",
    "\n",
    "    if straight and flush: return 8, values[1]\n",
    "    if flush: return 5, values\n",
    "    if straight: return 4, values[1]\n",
    "\n",
    "    trips = []\n",
    "    pairs = []\n",
    "    for v, group in itertools.groupby(values):\n",
    "        count = sum(1 for _ in group)\n",
    "        if count == 4: return 7, v, values\n",
    "        elif count == 3: trips.append(v)\n",
    "        elif count == 2: pairs.append(v)\n",
    "\n",
    "    if trips: return (6 if pairs else 3), trips, pairs, values\n",
    "    return len(pairs), pairs, values\n",
    "\n",
    "\n"
   ]
  },
  {
   "cell_type": "code",
   "execution_count": 32,
   "metadata": {},
   "outputs": [],
   "source": [
    "ranks1 = [0]*10\n",
    "ranks2 = [0]*10\n",
    "\n",
    "def p54():\n",
    "    ans = 0\n",
    "    for line in open('data/p054_poker.txt'):\n",
    "        cards = [(value_dict[x[0]], x[1]) for x in line.split(' ')]\n",
    "        ans += eval_hand(cards[:5]) > eval_hand(cards[5:])\n",
    "    return ans"
   ]
  },
  {
   "cell_type": "code",
   "execution_count": 33,
   "metadata": {},
   "outputs": [
    {
     "data": {
      "text/plain": [
       "376"
      ]
     },
     "execution_count": 33,
     "metadata": {},
     "output_type": "execute_result"
    }
   ],
   "source": [
    "p54()"
   ]
  }
 ],
 "metadata": {
  "kernelspec": {
   "display_name": "Python 3.10.5 64-bit",
   "language": "python",
   "name": "python3"
  },
  "language_info": {
   "codemirror_mode": {
    "name": "ipython",
    "version": 3
   },
   "file_extension": ".py",
   "mimetype": "text/x-python",
   "name": "python",
   "nbconvert_exporter": "python",
   "pygments_lexer": "ipython3",
   "version": "3.10.5"
  },
  "orig_nbformat": 4,
  "vscode": {
   "interpreter": {
    "hash": "916dbcbb3f70747c44a77c7bcd40155683ae19c65e1c03b4aa3499c5328201f1"
   }
  }
 },
 "nbformat": 4,
 "nbformat_minor": 2
}
