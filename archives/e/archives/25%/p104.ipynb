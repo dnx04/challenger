{
 "cells": [
  {
   "cell_type": "markdown",
   "metadata": {},
   "source": [
    "# [Project Euler 104 - Pandigital Fibonacci ends](https://projecteuler.net/problem=104)"
   ]
  },
  {
   "cell_type": "markdown",
   "metadata": {},
   "source": [
    "We have an approximation of $F_n$: $F_n = \\left \\lfloor \\dfrac{\\varphi^n}{\\sqrt{5}} \\right \\rfloor$. Also, we only need the first 9 digits and the last 9 digits of $F_n$, so logarithm do the trick."
   ]
  },
  {
   "cell_type": "code",
   "execution_count": 30,
   "metadata": {},
   "outputs": [],
   "source": [
    "def p104():\n",
    "    LOG_PHI = log_b(golden_ratio, 10)\n",
    "    LOG_SQRT5 = log_b(sqrt(5), 10)\n",
    "    MOD = 10^9\n",
    "    fn, fn1, fn2 = 0, 1, 1\n",
    "    n = 2\n",
    "    while True:\n",
    "        n += 1\n",
    "        fn = (fn1 + fn2) % MOD\n",
    "        fn2 = fn1\n",
    "        fn1 = fn\n",
    "        if ''.join(sorted(str(fn))) == '123456789':\n",
    "            t = n * LOG_PHI - LOG_SQRT5\n",
    "            head = ''.join(sorted(str(int(10^(t - int(t) + 8)))))\n",
    "            if head == '123456789':\n",
    "                return n\n"
   ]
  },
  {
   "cell_type": "code",
   "execution_count": 31,
   "metadata": {},
   "outputs": [
    {
     "data": {
      "text/plain": [
       "329468"
      ]
     },
     "execution_count": 31,
     "metadata": {},
     "output_type": "execute_result"
    }
   ],
   "source": [
    "p104()"
   ]
  }
 ],
 "metadata": {
  "kernelspec": {
   "display_name": "SageMath 9.5",
   "language": "sage",
   "name": "sagemath"
  },
  "language_info": {
   "codemirror_mode": {
    "name": "ipython",
    "version": 3
   },
   "file_extension": ".py",
   "mimetype": "text/x-python",
   "name": "python",
   "nbconvert_exporter": "python",
   "pygments_lexer": "ipython3",
   "version": "3.10.5"
  },
  "orig_nbformat": 4
 },
 "nbformat": 4,
 "nbformat_minor": 2
}
