{
 "cells": [
  {
   "cell_type": "markdown",
   "metadata": {},
   "source": [
    "# [Project Euler 187 - Semiprimes](https://projecteuler.net/problem=187)\n",
    "\n",
    "> Find the number of semiprimes $n = pq \\le 10^8$, with $p, q \\in P$\n",
    "\n",
    "In order to loop through all pair of distinct primes effectively, and WLOG, we may assume that $p \\le \\sqrt{10^8} = 10^4$. Then use prime counting function to find the number of $q \\le \\frac{n}{p}$.\n",
    "\n",
    "Be aware not to count things twice."
   ]
  },
  {
   "cell_type": "code",
   "execution_count": 23,
   "metadata": {
    "vscode": {
     "languageId": "python"
    }
   },
   "outputs": [],
   "source": [
    "def p187(n):\n",
    "    P = Primes()\n",
    "    ans = 0\n",
    "    n -= 1\n",
    "    for i in P:\n",
    "        if i * i >= n:\n",
    "            break\n",
    "        ans += prime_pi(n // i)\n",
    "        ans -= prime_pi(i - 1)\n",
    "    return ans"
   ]
  },
  {
   "cell_type": "code",
   "execution_count": 24,
   "metadata": {
    "vscode": {
     "languageId": "python"
    }
   },
   "outputs": [
    {
     "data": {
      "text/plain": [
       "17427258"
      ]
     },
     "execution_count": 24,
     "metadata": {},
     "output_type": "execute_result"
    }
   ],
   "source": [
    "p187(30)\n",
    "p187(10^8)"
   ]
  }
 ],
 "metadata": {
  "kernelspec": {
   "display_name": "SageMath 9.5",
   "language": "sage",
   "name": "sagemath"
  },
  "language_info": {
   "codemirror_mode": {
    "name": "ipython",
    "version": 3
   },
   "file_extension": ".py",
   "mimetype": "text/x-python",
   "name": "sage",
   "nbconvert_exporter": "python",
   "pygments_lexer": "ipython3",
   "version": "3.10.5"
  },
  "orig_nbformat": 4
 },
 "nbformat": 4,
 "nbformat_minor": 2
}
