{
 "cells": [
  {
   "cell_type": "markdown",
   "metadata": {},
   "source": [
    "# [Project Euler 125 - Palindromic sums](https://projecteuler.net/problem=125)"
   ]
  },
  {
   "cell_type": "code",
   "execution_count": 23,
   "metadata": {},
   "outputs": [],
   "source": [
    "def sum2(n):\n",
    "    return n * (n + 1) * (2 * n + 1) / 6\n",
    "\n",
    "def p125(threshold):\n",
    "    ans_list = set()\n",
    "    for i in range(isqrt(threshold)):\n",
    "        for j in range(i + 2, isqrt(threshold)):\n",
    "            if sum2(j) - sum2(i) >= threshold:\n",
    "                break\n",
    "            s = str(sum2(j) - sum2(i))\n",
    "            if s == s[::-1]:\n",
    "                ans_list.add(int(s))\n",
    "    return sum(ans_list)"
   ]
  },
  {
   "cell_type": "code",
   "execution_count": 24,
   "metadata": {},
   "outputs": [
    {
     "data": {
      "text/plain": [
       "2906969179"
      ]
     },
     "execution_count": 24,
     "metadata": {},
     "output_type": "execute_result"
    }
   ],
   "source": [
    "p125(10^8)"
   ]
  }
 ],
 "metadata": {
  "kernelspec": {
   "display_name": "SageMath 9.5",
   "language": "sage",
   "name": "sagemath"
  },
  "language_info": {
   "codemirror_mode": {
    "name": "ipython",
    "version": 3
   },
   "file_extension": ".py",
   "mimetype": "text/x-python",
   "name": "python",
   "nbconvert_exporter": "python",
   "pygments_lexer": "ipython3",
   "version": "3.10.5"
  },
  "orig_nbformat": 4
 },
 "nbformat": 4,
 "nbformat_minor": 2
}
