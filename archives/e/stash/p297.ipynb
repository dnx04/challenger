{
 "cells": [
  {
   "cell_type": "markdown",
   "metadata": {},
   "source": [
    "# Project Euler - 297\n",
    "\n",
    "> Let $z(n)$ be the number of terms in the Zeckendorf representation of $n$.\n",
    "> \n",
    "> Find $\\sum z(n)$ for $0 < n < 10^{17}$.\n",
    "\n",
    "- Zeckendorf representation can be built greedily by picking the largest fibonacci $\\le n$.\n",
    "- Let $f(i)$ be the answer of the problem at $i$.\n",
    "  - $f(i) = f(i - 1) + f()"
   ]
  },
  {
   "cell_type": "code",
   "execution_count": 31,
   "metadata": {
    "vscode": {
     "languageId": "python"
    }
   },
   "outputs": [],
   "source": [
    "def p297(n):\n",
    "    ans = 0\n",
    "    for i in range(100, 1, -1):\n",
    "        if fibonacci(i) <= n:\n",
    "            ans += fibonacci(i)\n",
    "    return ans"
   ]
  },
  {
   "cell_type": "code",
   "execution_count": 32,
   "metadata": {
    "vscode": {
     "languageId": "python"
    }
   },
   "outputs": [
    {
     "data": {
      "text/plain": [
       "2178307"
      ]
     },
     "execution_count": 32,
     "metadata": {},
     "output_type": "execute_result"
    }
   ],
   "source": [
    "p297(1000000)\n",
    "# p297(1e17)"
   ]
  }
 ],
 "metadata": {
  "kernelspec": {
   "display_name": "SageMath 9.5",
   "language": "sage",
   "name": "sagemath"
  },
  "language_info": {
   "codemirror_mode": {
    "name": "ipython",
    "version": 3
   },
   "file_extension": ".py",
   "mimetype": "text/x-python",
   "name": "sage",
   "nbconvert_exporter": "python",
   "pygments_lexer": "ipython3",
   "version": "3.10.5"
  },
  "orig_nbformat": 4
 },
 "nbformat": 4,
 "nbformat_minor": 2
}
