{
 "cells": [
  {
   "cell_type": "markdown",
   "metadata": {},
   "source": [
    "# [Project Euler 60 - Prime pair sets](https://projecteuler.net/problem=60)"
   ]
  },
  {
   "cell_type": "code",
   "execution_count": 19,
   "metadata": {},
   "outputs": [],
   "source": [
    "def p60():\n",
    "    P = Primes()\n",
    "    num = []\n",
    "    for x in P:\n",
    "        if x > 200:\n",
    "            break\n",
    "        num.append(x)\n",
    "    ans = 1e9\n",
    "    uni = Subsets(num, 5)\n",
    "    print(uni.cardinality())\n",
    "    for s in uni:\n",
    "        ok = True\n",
    "        for i in range(1, len(s)):\n",
    "            for j in range(i+1, len(s)):\n",
    "                if not (int(str(s[i]) + str(s[j])) in P) or not (int(str(s[j]) + str(s[i])) in P):\n",
    "                    ok = False\n",
    "                    break\n",
    "        if ok:\n",
    "            ans = min(ans, sum(s))\n",
    "    return ans"
   ]
  },
  {
   "cell_type": "code",
   "execution_count": 20,
   "metadata": {},
   "outputs": [
    {
     "name": "stdout",
     "output_type": "stream",
     "text": [
      "1370754\n"
     ]
    },
    {
     "ename": "KeyboardInterrupt",
     "evalue": "",
     "output_type": "error",
     "traceback": [
      "\u001b[0;31m---------------------------------------------------------------------------\u001b[0m",
      "\u001b[0;31mKeyboardInterrupt\u001b[0m                         Traceback (most recent call last)",
      "Cell \u001b[0;32mIn [20], line 1\u001b[0m\n\u001b[0;32m----> 1\u001b[0m p60()\n",
      "Cell \u001b[0;32mIn [19], line 13\u001b[0m, in \u001b[0;36mp60\u001b[0;34m()\u001b[0m\n\u001b[1;32m     11\u001b[0m \u001b[39mfor\u001b[39;00m s \u001b[39min\u001b[39;00m uni:\n\u001b[1;32m     12\u001b[0m     ok \u001b[39m=\u001b[39m \u001b[39mTrue\u001b[39;00m\n\u001b[0;32m---> 13\u001b[0m     \u001b[39mfor\u001b[39;00m i \u001b[39min\u001b[39;00m \u001b[39mrange\u001b[39m(Integer(\u001b[39m1\u001b[39m), \u001b[39mlen\u001b[39;49m(s)):\n\u001b[1;32m     14\u001b[0m         \u001b[39mfor\u001b[39;00m j \u001b[39min\u001b[39;00m \u001b[39mrange\u001b[39m(i\u001b[39m+\u001b[39mInteger(\u001b[39m1\u001b[39m), \u001b[39mlen\u001b[39m(s)):\n\u001b[1;32m     15\u001b[0m             \u001b[39mif\u001b[39;00m \u001b[39mnot\u001b[39;00m (\u001b[39mint\u001b[39m(\u001b[39mstr\u001b[39m(s[i]) \u001b[39m+\u001b[39m \u001b[39mstr\u001b[39m(s[j])) \u001b[39min\u001b[39;00m P) \u001b[39mor\u001b[39;00m \u001b[39mnot\u001b[39;00m (\u001b[39mint\u001b[39m(\u001b[39mstr\u001b[39m(s[j]) \u001b[39m+\u001b[39m \u001b[39mstr\u001b[39m(s[i])) \u001b[39min\u001b[39;00m P):\n",
      "File \u001b[0;32m/usr/lib/python3/dist-packages/sage/sets/set.py:894\u001b[0m, in \u001b[0;36mSet_object_enumerated.__len__\u001b[0;34m(self)\u001b[0m\n\u001b[1;32m    887\u001b[0m \u001b[39mdef\u001b[39;00m \u001b[39m__len__\u001b[39m(\u001b[39mself\u001b[39m):\n\u001b[1;32m    888\u001b[0m     \u001b[39m\"\"\"\u001b[39;00m\n\u001b[1;32m    889\u001b[0m \u001b[39m    EXAMPLES::\u001b[39;00m\n\u001b[1;32m    890\u001b[0m \n\u001b[1;32m    891\u001b[0m \u001b[39m        sage: len(Set([1,1]))\u001b[39;00m\n\u001b[1;32m    892\u001b[0m \u001b[39m        1\u001b[39;00m\n\u001b[1;32m    893\u001b[0m \u001b[39m    \"\"\"\u001b[39;00m\n\u001b[0;32m--> 894\u001b[0m     \u001b[39mreturn\u001b[39;00m \u001b[39mlen\u001b[39m(\u001b[39mself\u001b[39;49m\u001b[39m.\u001b[39;49mset())\n",
      "File \u001b[0;32m/usr/lib/python3/dist-packages/sage/sets/set.py:991\u001b[0m, in \u001b[0;36mSet_object_enumerated.set\u001b[0;34m(self)\u001b[0m\n\u001b[1;32m    971\u001b[0m \u001b[39mdef\u001b[39;00m \u001b[39mset\u001b[39m(\u001b[39mself\u001b[39m):\n\u001b[1;32m    972\u001b[0m     \u001b[39m\"\"\"\u001b[39;00m\n\u001b[1;32m    973\u001b[0m \u001b[39m    Return the Python set object associated to this set.\u001b[39;00m\n\u001b[1;32m    974\u001b[0m \n\u001b[0;32m   (...)\u001b[0m\n\u001b[1;32m    989\u001b[0m \u001b[39m        <class 'sage.sets.set.Set_object_enumerated_with_category'>\u001b[39;00m\n\u001b[1;32m    990\u001b[0m \u001b[39m    \"\"\"\u001b[39;00m\n\u001b[0;32m--> 991\u001b[0m     \u001b[39mreturn\u001b[39;00m \u001b[39mset\u001b[39;49m(\u001b[39mself\u001b[39;49m\u001b[39m.\u001b[39;49mobject())\n",
      "File \u001b[0;32msrc/cysignals/signals.pyx:310\u001b[0m, in \u001b[0;36mcysignals.signals.python_check_interrupt\u001b[0;34m()\u001b[0m\n",
      "\u001b[0;31mKeyboardInterrupt\u001b[0m: "
     ]
    }
   ],
   "source": [
    "p60()"
   ]
  }
 ],
 "metadata": {
  "kernelspec": {
   "display_name": "Python 3",
   "language": "python",
   "name": "python3"
  },
  "language_info": {
   "codemirror_mode": {
    "name": "ipython",
    "version": 3
   },
   "file_extension": ".py",
   "mimetype": "text/x-python",
   "name": "python",
   "nbconvert_exporter": "python",
   "pygments_lexer": "ipython3",
   "version": "3.10.7 (main, Oct  1 2022, 04:31:04) [GCC 12.2.0]"
  },
  "orig_nbformat": 4,
  "vscode": {
   "interpreter": {
    "hash": "916dbcbb3f70747c44a77c7bcd40155683ae19c65e1c03b4aa3499c5328201f1"
   }
  }
 },
 "nbformat": 4,
 "nbformat_minor": 2
}
