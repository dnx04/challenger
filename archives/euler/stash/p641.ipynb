{
 "cells": [
  {
   "cell_type": "markdown",
   "metadata": {},
   "source": [
    "# [Project Euler 641 - A Long Row of Dice](https://projecteuler.net/problem=641)"
   ]
  },
  {
   "cell_type": "code",
   "execution_count": 154,
   "metadata": {
    "vscode": {
     "languageId": "python"
    }
   },
   "outputs": [],
   "source": [
    "P = Primes()\n",
    "\n",
    "def iroot(x, n):\n",
    "    return int(x^(1/n))"
   ]
  },
  {
   "cell_type": "code",
   "execution_count": 155,
   "metadata": {
    "vscode": {
     "languageId": "python"
    }
   },
   "outputs": [],
   "source": [
    "def count_pair(m, n, N): # count the number of distinct numbers of the form p^m * q^n such that it <= N\n",
    "    res = 0\n",
    "    if m == n:\n",
    "        t = iroot(N, m)\n",
    "        for p in P:\n",
    "            if p * p > t:\n",
    "                break\n",
    "            res += prime_pi(t // p) - prime_pi(p)\n",
    "    else:\n",
    "        if m > n:\n",
    "            m, n = n, m\n",
    "        for p in P:\n",
    "            if p^n > N:\n",
    "                break\n",
    "            t = iroot(N / p^n, m)\n",
    "            res += prime_pi(t)\n",
    "            if t >= p:\n",
    "                res -= 1\n",
    "    return res\n",
    "        "
   ]
  },
  {
   "cell_type": "code",
   "execution_count": 156,
   "metadata": {
    "vscode": {
     "languageId": "python"
    }
   },
   "outputs": [],
   "source": [
    "def count_brute(m, n, N):\n",
    "  res = 0\n",
    "  for p in P:\n",
    "    if p^m > N:\n",
    "      break\n",
    "    for q in P:\n",
    "      if p^m * q^n > N:\n",
    "        break\n",
    "      if m == n and p <= q:\n",
    "        break\n",
    "      if (m != n and p == q):\n",
    "        continue``\n",
    "      res += 1\n",
    "  return res"
   ]
  },
  {
   "cell_type": "code",
   "execution_count": 157,
   "metadata": {
    "vscode": {
     "languageId": "python"
    }
   },
   "outputs": [],
   "source": [
    "def p641(limit):\n",
    "    cand = [6 * k + 1 for k in range(1, 20)]\n",
    "    ans = 1\n",
    "    for c in cand:\n",
    "        for p in P:\n",
    "            if p^(c - 1) <= limit:\n",
    "                ans += 1\n",
    "            else:\n",
    "                break\n",
    "        if c == 25:\n",
    "            ans += count_pair(4, 4, limit)\n",
    "        if c == 49:\n",
    "            ans += count_pair(6, 6, limit)\n",
    "        if c == 55:\n",
    "            ans += count_pair(4, 10, limit)\n",
    "        if c == 85:\n",
    "            ans += count_pair(4, 16, limit)\n",
    "        if c == 91:\n",
    "            ans += count_pair(6, 12, limit)\n",
    "        if c == 115:\n",
    "            ans += count_pair(4, 22, limit)\n",
    "    return ans"
   ]
  },
  {
   "cell_type": "code",
   "execution_count": 158,
   "metadata": {
    "vscode": {
     "languageId": "python"
    }
   },
   "outputs": [],
   "source": [
    "assert count_pair(2, 4, 10^6) == count_brute(2, 4, 10^6)"
   ]
  }
 ],
 "metadata": {
  "kernelspec": {
   "display_name": "SageMath 9.5",
   "language": "sage",
   "name": "sagemath"
  },
  "language_info": {
   "codemirror_mode": {
    "name": "ipython",
    "version": 3
   },
   "file_extension": ".py",
   "mimetype": "text/x-python",
   "name": "sage",
   "nbconvert_exporter": "python",
   "pygments_lexer": "ipython3",
   "version": "3.10.5"
  },
  "orig_nbformat": 4,
  "vscode": {
   "interpreter": {
    "hash": "916dbcbb3f70747c44a77c7bcd40155683ae19c65e1c03b4aa3499c5328201f1"
   }
  }
 },
 "nbformat": 4,
 "nbformat_minor": 2
}
