{
 "cells": [
  {
   "cell_type": "markdown",
   "metadata": {},
   "source": [
    "# [Project Euler 512 - Sum of totients of powers](https://projecteuler.net/problem=512)\n",
    "\n",
    "We can transform $f(n)$ so that it can be calculated with respect to $\\varphi(n)$ as follows. Let $p_1, p_2, \\dots, p_k$ be the prime factors of $n$, then we have:\n",
    "\n",
    "$$f(n) = \\sum_{i=1}^{n}\\varphi(n^i) \\bmod (n+1) = \\varphi(n) \\sum_{i=1}^{n} n^i \\bmod (n+1) = \\frac{n^n - 1}{n - 1}\\varphi(n) \\bmod (n+1)$$"
   ]
  },
  {
   "cell_type": "code",
   "execution_count": 4,
   "metadata": {
    "vscode": {
     "languageId": "python"
    }
   },
   "outputs": [],
   "source": [
    "import numpy as np"
   ]
  },
  {
   "cell_type": "code",
   "execution_count": 5,
   "metadata": {
    "vscode": {
     "languageId": "python"
    }
   },
   "outputs": [],
   "source": [
    "def eval_phi(n):\n",
    "    phi = [i for i in range(n)]\n",
    "    for i in range(3, n, 2):\n",
    "        if phi[i] == i:\n",
    "            for j in range(i, n, i):\n",
    "                phi[j] -= phi[j] // i\n",
    "    return phi"
   ]
  },
  {
   "cell_type": "code",
   "execution_count": 6,
   "metadata": {
    "vscode": {
     "languageId": "python"
    }
   },
   "outputs": [],
   "source": [
    "def p512(n):\n",
    "    phi = eval_phi(n + 1)\n",
    "    return sum(phi[i] for i in range(1, n + 1, 2))"
   ]
  },
  {
   "cell_type": "code",
   "execution_count": 22,
   "metadata": {
    "vscode": {
     "languageId": "python"
    }
   },
   "outputs": [
    {
     "ename": "",
     "evalue": "",
     "output_type": "error",
     "traceback": [
      "\u001b[1;31mCanceled future for execute_request message before replies were done"
     ]
    },
    {
     "ename": "",
     "evalue": "",
     "output_type": "error",
     "traceback": [
      "The Kernel crashed while executing code in the the current cell or a previous cell. Please review the code in the cell(s) to identify a possible cause of the failure. Click <a href='https://aka.ms/vscodeJupyterKernelCrash'>here</a> for more info. View Jupyter <a href='command:jupyter.viewOutput'>log</a> for further details."
     ]
    }
   ],
   "source": [
    "from sys import getsizeof\n",
    "\n",
    "phi = np.array([i for i in range(5 * 10^8 + 1)], dtype='i1')\n",
    "print(getsizeof(phi))"
   ]
  }
 ],
 "metadata": {
  "kernelspec": {
   "display_name": "SageMath 9.5",
   "language": "sage",
   "name": "sagemath"
  },
  "language_info": {
   "codemirror_mode": {
    "name": "ipython",
    "version": 3
   },
   "file_extension": ".py",
   "mimetype": "text/x-python",
   "name": "sage",
   "nbconvert_exporter": "python",
   "pygments_lexer": "ipython3",
   "version": "3.10.5"
  },
  "orig_nbformat": 4,
  "vscode": {
   "interpreter": {
    "hash": "916dbcbb3f70747c44a77c7bcd40155683ae19c65e1c03b4aa3499c5328201f1"
   }
  }
 },
 "nbformat": 4,
 "nbformat_minor": 2
}
