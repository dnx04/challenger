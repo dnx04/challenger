{
 "cells": [
  {
   "cell_type": "markdown",
   "metadata": {},
   "source": [
    "# [Project Euler 642 - Sum of largest prime factors](https://projecteuler.net/problem=642)"
   ]
  },
  {
   "cell_type": "code",
   "execution_count": 89,
   "metadata": {},
   "outputs": [],
   "source": [
    "MOD = 10^9\n",
    "P = Primes()"
   ]
  },
  {
   "cell_type": "code",
   "execution_count": 90,
   "metadata": {},
   "outputs": [],
   "source": [
    "def prime_sum(n):\n",
    "    r = isqrt(n)\n",
    "    V = [n // i for i in range(1,r+1)]\n",
    "    V += list(range(V[-1]-1,0,-1))\n",
    "    S = {i:i*(i+1)//2-1 for i in V}\n",
    "    for p in range(2,r+1):\n",
    "        if S[p] > S[p-1]:  # p is prime\n",
    "            sp = S[p-1]  # sum of primes smaller than p\n",
    "            p2 = p*p\n",
    "            for v in V:\n",
    "                if v < p2: break\n",
    "                S[v] -= p*(S[v//p] - sp)\n",
    "    return S[n]"
   ]
  },
  {
   "cell_type": "code",
   "execution_count": 91,
   "metadata": {},
   "outputs": [],
   "source": [
    "def p642(n):\n",
    "    ans = 0\n",
    "    i, la = 0, 0\n",
    "    for p in P:\n",
    "        if p * p <= n:\n",
    "            ans += (n // p) * p\n",
    "            for q in P:\n",
    "                if q >= p or p * q > n:\n",
    "                    break\n",
    "                else:\n",
    "                    ans -= (n // (p * q)) * q\n",
    "            print(p, q, ans)\n",
    "        else:\n",
    "            i = p\n",
    "            break\n",
    "    while i <= n:\n",
    "        la = n // (n // i)\n",
    "        ans += (prime_sum(la) - prime_sum(i - 1)) * (n // i)\n",
    "        i = la + 1\n",
    "    return ans"
   ]
  },
  {
   "cell_type": "code",
   "execution_count": 92,
   "metadata": {},
   "outputs": [
    {
     "name": "stdout",
     "output_type": "stream",
     "text": [
      "2 2 10\n",
      "3 3 17\n"
     ]
    },
    {
     "data": {
      "text/plain": [
       "34"
      ]
     },
     "execution_count": 92,
     "metadata": {},
     "output_type": "execute_result"
    }
   ],
   "source": [
    "p642(10)"
   ]
  }
 ],
 "metadata": {
  "kernelspec": {
   "display_name": "SageMath 9.5",
   "language": "sage",
   "name": "sagemath"
  },
  "language_info": {
   "codemirror_mode": {
    "name": "ipython",
    "version": 3
   },
   "file_extension": ".py",
   "mimetype": "text/x-python",
   "name": "python",
   "nbconvert_exporter": "python",
   "pygments_lexer": "ipython3",
   "version": "3.10.5"
  },
  "orig_nbformat": 4,
  "vscode": {
   "interpreter": {
    "hash": "916dbcbb3f70747c44a77c7bcd40155683ae19c65e1c03b4aa3499c5328201f1"
   }
  }
 },
 "nbformat": 4,
 "nbformat_minor": 2
}
