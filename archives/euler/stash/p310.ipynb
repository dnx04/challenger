{
 "cells": [
  {
   "cell_type": "markdown",
   "metadata": {},
   "source": [
    "# [Project Euler 310 - Nim Square](https://projecteuler.net/problem=310)"
   ]
  },
  {
   "cell_type": "code",
   "execution_count": 113,
   "metadata": {
    "vscode": {
     "languageId": "python"
    }
   },
   "outputs": [],
   "source": [
    "from collections import Counter"
   ]
  },
  {
   "cell_type": "code",
   "execution_count": 114,
   "metadata": {
    "vscode": {
     "languageId": "python"
    }
   },
   "outputs": [],
   "source": [
    "def p310(n):\n",
    "    grundy = [0 for i in range(n + 1)]\n",
    "    for i in range(1, n + 1):\n",
    "        k, mex = 1, 0\n",
    "        gs = set()\n",
    "        while k * k <= i:\n",
    "            gs.add(grundy[i - k * k])\n",
    "            while mex in gs:\n",
    "                mex += 1\n",
    "            k += 1\n",
    "        grundy[i] = mex\n",
    "    a = Counter(grundy)\n",
    "    ans = 0\n",
    "    \n",
    "    return ans\n",
    "    "
   ]
  },
  {
   "cell_type": "code",
   "execution_count": 115,
   "metadata": {
    "vscode": {
     "languageId": "python"
    }
   },
   "outputs": [
    {
     "name": "stdout",
     "output_type": "stream",
     "text": [
      "Counter({0: 10, 1: 10, 2: 6, 3: 2, 4: 1, 5: 1})\n",
      "0 220\n",
      "1 770\n",
      "2 980\n",
      "3 1010\n",
      "4 1020\n",
      "5 1030\n"
     ]
    },
    {
     "data": {
      "text/plain": [
       "1030"
      ]
     },
     "execution_count": 115,
     "metadata": {},
     "output_type": "execute_result"
    }
   ],
   "source": [
    "p310(29)"
   ]
  }
 ],
 "metadata": {
  "kernelspec": {
   "display_name": "SageMath 9.5",
   "language": "sage",
   "name": "sagemath"
  },
  "language_info": {
   "codemirror_mode": {
    "name": "ipython",
    "version": 3
   },
   "file_extension": ".py",
   "mimetype": "text/x-python",
   "name": "sage",
   "nbconvert_exporter": "python",
   "pygments_lexer": "ipython3",
   "version": "3.10.5"
  },
  "orig_nbformat": 4
 },
 "nbformat": 4,
 "nbformat_minor": 2
}
