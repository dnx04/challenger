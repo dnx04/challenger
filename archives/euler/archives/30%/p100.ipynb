{
 "cells": [
  {
   "cell_type": "markdown",
   "metadata": {},
   "source": [
    "# [Project Euler 100 - Arranged probability](https://projecteuler.net/problem=100)\n",
    "\n",
    "We can come up with this relation between blue and total easily: $$2b^2 - 2b - n^2 + n = 0$$\n",
    "\n",
    "Put this equation to a Diophantine two variables equation solver, we have: \n",
    "$$\n",
    "\\begin{align*}\n",
    "b_{k + 1} &= 3b_k + 2n_k - 2 \\cr\n",
    "n_{k + 1} &= 4b_k + 3n_k - 3\n",
    "\\end{align*}\n",
    "$$"
   ]
  },
  {
   "cell_type": "code",
   "execution_count": 1,
   "metadata": {
    "vscode": {
     "languageId": "python"
    }
   },
   "outputs": [],
   "source": [
    "def p100(threshold):\n",
    "    b, n = 15, 21\n",
    "    while n <= threshold:\n",
    "        nxt_b = 3 * b + 2 * n - 2\n",
    "        nxt_n = 4 * b + 3 * n - 3\n",
    "        b = nxt_b\n",
    "        n = nxt_n\n",
    "    return b"
   ]
  },
  {
   "cell_type": "code",
   "execution_count": 2,
   "metadata": {
    "vscode": {
     "languageId": "python"
    }
   },
   "outputs": [
    {
     "data": {
      "text/plain": [
       "756872327473"
      ]
     },
     "execution_count": 2,
     "metadata": {},
     "output_type": "execute_result"
    }
   ],
   "source": [
    "p100(10^12)"
   ]
  }
 ],
 "metadata": {
  "kernelspec": {
   "display_name": "SageMath 9.5",
   "language": "sage",
   "name": "sagemath"
  },
  "language_info": {
   "codemirror_mode": {
    "name": "ipython",
    "version": 3
   },
   "file_extension": ".py",
   "mimetype": "text/x-python",
   "name": "sage",
   "nbconvert_exporter": "python",
   "pygments_lexer": "ipython3",
   "version": "3.10.5"
  },
  "orig_nbformat": 4
 },
 "nbformat": 4,
 "nbformat_minor": 2
}
