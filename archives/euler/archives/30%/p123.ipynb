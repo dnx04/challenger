{
 "cells": [
  {
   "cell_type": "markdown",
   "metadata": {},
   "source": [
    "# [Project Euler 123 - Prime Square Remainders](https://projecteuler.net/problem=123)\n",
    "\n",
    "The idea is straightforward, bruteforcing through primes, however implementation is a real gimmick if you don't have prewritten libraries. \n",
    "\n",
    "All hail SageMath!"
   ]
  },
  {
   "cell_type": "code",
   "execution_count": 15,
   "metadata": {},
   "outputs": [],
   "source": [
    "def p123(threshold):\n",
    "    P = Primes()\n",
    "    p = next_prime(isqrt(threshold) + 1)\n",
    "    rnk = prime_pi(p)\n",
    "    while True:\n",
    "        R = IntegerModRing(p^2)\n",
    "        if R((p - 1)^rnk + (p + 1)^rnk) > threshold:\n",
    "            return rnk\n",
    "        p = next_prime(p)\n",
    "        rnk += 1"
   ]
  },
  {
   "cell_type": "code",
   "execution_count": 16,
   "metadata": {},
   "outputs": [
    {
     "data": {
      "text/plain": [
       "21035"
      ]
     },
     "execution_count": 16,
     "metadata": {},
     "output_type": "execute_result"
    }
   ],
   "source": [
    "p123(10^10)"
   ]
  }
 ],
 "metadata": {
  "kernelspec": {
   "display_name": "SageMath 9.5",
   "language": "sage",
   "name": "sagemath"
  },
  "language_info": {
   "codemirror_mode": {
    "name": "ipython",
    "version": 3
   },
   "file_extension": ".py",
   "mimetype": "text/x-python",
   "name": "python",
   "nbconvert_exporter": "python",
   "pygments_lexer": "ipython3",
   "version": "3.10.5"
  },
  "orig_nbformat": 4
 },
 "nbformat": 4,
 "nbformat_minor": 2
}
