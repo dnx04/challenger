{
 "cells": [
  {
   "cell_type": "markdown",
   "metadata": {},
   "source": [
    "# [Project Euler 668 - Square root smooth Numbers](https://projecteuler.net/problem=668)\n",
    "\n",
    "For a prime $p$, $p, 2p, 3p, \\dots, p^2$ will be non-smooth numbers. So the answer is: $$n - \\sum_{p \\leq n} \\mathbf{min}(p,\\lfloor \\frac{N}{p} \\rfloor)$$\n",
    "\n",
    "Let's divide the sum into 2 parts for $p \\le \\sqrt{n}$ (which contributes $p$ to the non-smooth total), and $p > \\sqrt{N}$ (which contributes $\\lfloor \\frac{n}{p} \\rfloor$ to the non-smooth total): $$n - \\sum_{\\sqrt{n} \\leq p \\leq n} \\left \\lfloor \\frac{n}{p} \\right \\rfloor - \\sum_{p \\leq \\sqrt{n}} p.$$\n",
    "\n",
    "Correspondingly, there will be 2 phases of our algorithm:\n",
    "- If $p \\le \\sqrt{n} = 10^5$, add them to the answer.\n",
    "- If $p > \\sqrt{n}$, from past problems, we know that there will be at most $\\mathcal{O}(\\sqrt{n})$ different values for $\\left \\lfloor \\frac{N}{p} \\right \\rfloor$, and we can iterate through these different values efficiently. So with a fast prime-counting function, we can iterate through segments of prime where $\\left \\lfloor \\frac{N}{p} \\right \\rfloor$ yields the same value, and add them to the sum."
   ]
  },
  {
   "cell_type": "code",
   "execution_count": 39,
   "metadata": {
    "vscode": {
     "languageId": "python"
    }
   },
   "outputs": [],
   "source": [
    "def p668(n):\n",
    "    P = Primes()\n",
    "    not_smooth = 0\n",
    "    i, la = 0, 0\n",
    "    for p in P:\n",
    "        if p * p <= n:\n",
    "            not_smooth += p\n",
    "        else:\n",
    "            i = p\n",
    "            break\n",
    "    while i <= n:\n",
    "        la = n // (n // i)\n",
    "        not_smooth += (prime_pi(la) - prime_pi(i - 1)) * (n // i)\n",
    "        i = la + 1\n",
    "    return n - not_smooth"
   ]
  },
  {
   "cell_type": "code",
   "execution_count": 40,
   "metadata": {
    "vscode": {
     "languageId": "python"
    }
   },
   "outputs": [
    {
     "data": {
      "text/plain": [
       "2811077773"
      ]
     },
     "execution_count": 40,
     "metadata": {},
     "output_type": "execute_result"
    }
   ],
   "source": [
    "p668(10^10)"
   ]
  }
 ],
 "metadata": {
  "kernelspec": {
   "display_name": "SageMath 9.5",
   "language": "sage",
   "name": "sagemath"
  },
  "language_info": {
   "codemirror_mode": {
    "name": "ipython",
    "version": 3
   },
   "file_extension": ".py",
   "mimetype": "text/x-python",
   "name": "sage",
   "nbconvert_exporter": "python",
   "pygments_lexer": "ipython3",
   "version": "3.10.5"
  },
  "orig_nbformat": 4
 },
 "nbformat": 4,
 "nbformat_minor": 2
}
