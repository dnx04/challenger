{
 "cells": [
  {
   "cell_type": "markdown",
   "metadata": {},
   "source": [
    "# [Project Euler 601 - Divisibility streaks](https://projecteuler.net/problem=601)\n",
    "\n",
    "What the problem actually tell us to do is finding all $n \\in (1, N)$ such that $n - 1$ is divisible by $\\text{lcm}(1, 2, 3, \\dots, k)$ but not $\\text{lcm}(1, 2, 3, \\dots, k + 1)$. This gives the formula of $P$: $$P(s,N)=\\left\\lfloor\\frac{N-2}{\\text{lcm}(1,2,\\ldots,s)}\\right\\rfloor-\\left\\lfloor\\frac{N-2}{\\text{lcm}(1,2,\\ldots,s+1)}\\right\\rfloor.$$"
   ]
  },
  {
   "cell_type": "code",
   "execution_count": 63,
   "metadata": {
    "vscode": {
     "languageId": "python"
    }
   },
   "outputs": [],
   "source": [
    "def p(s, N):\n",
    "    return (N - 2) // lcm(i for i in range(1, s + 1)) - (N - 2) // lcm(i for i in range(1, s + 2))"
   ]
  },
  {
   "cell_type": "code",
   "execution_count": 64,
   "metadata": {
    "vscode": {
     "languageId": "python"
    }
   },
   "outputs": [],
   "source": [
    "def p601(ls):\n",
    "    ans = 0\n",
    "    for ele in ls:\n",
    "        ans += p(ele[0], ele[1])\n",
    "    return ans"
   ]
  },
  {
   "cell_type": "code",
   "execution_count": 65,
   "metadata": {
    "vscode": {
     "languageId": "python"
    }
   },
   "outputs": [
    {
     "data": {
      "text/plain": [
       "1617243"
      ]
     },
     "execution_count": 65,
     "metadata": {},
     "output_type": "execute_result"
    }
   ],
   "source": [
    "p601([(i, 4^i) for i in range(1, 32)])"
   ]
  }
 ],
 "metadata": {
  "kernelspec": {
   "display_name": "SageMath 9.5",
   "language": "sage",
   "name": "sagemath"
  },
  "language_info": {
   "codemirror_mode": {
    "name": "ipython",
    "version": 3
   },
   "file_extension": ".py",
   "mimetype": "text/x-python",
   "name": "sage",
   "nbconvert_exporter": "python",
   "pygments_lexer": "ipython3",
   "version": "3.10.5"
  },
  "orig_nbformat": 4
 },
 "nbformat": 4,
 "nbformat_minor": 2
}
