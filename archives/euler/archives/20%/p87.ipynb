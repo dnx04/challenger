{
 "cells": [
  {
   "cell_type": "markdown",
   "metadata": {},
   "source": [
    "# Project Euler 87 - Prime Power Triples\n",
    "\n"
   ]
  },
  {
   "cell_type": "code",
   "execution_count": 15,
   "metadata": {
    "vscode": {
     "languageId": "python"
    }
   },
   "outputs": [],
   "source": [
    "def p87(n):\n",
    "    P = Primes()\n",
    "    i, j, k = 0, 0, 0\n",
    "    d = {}\n",
    "    while True:\n",
    "        p = P.unrank(i)^2\n",
    "        if p > n:\n",
    "            break\n",
    "        while True:\n",
    "            q = P.unrank(j)^3\n",
    "            if p + q > n:\n",
    "                j = 0\n",
    "                break\n",
    "            while True:\n",
    "                r = P.unrank(k)^4\n",
    "                if p + q + r > n:\n",
    "                    k = 0\n",
    "                    break\n",
    "                d.setdefault(p + q + r)\n",
    "                k += 1\n",
    "            j += 1\n",
    "        i += 1\n",
    "    return len(d)"
   ]
  },
  {
   "cell_type": "code",
   "execution_count": 16,
   "metadata": {
    "vscode": {
     "languageId": "python"
    }
   },
   "outputs": [
    {
     "data": {
      "text/plain": [
       "1097343"
      ]
     },
     "execution_count": 16,
     "metadata": {},
     "output_type": "execute_result"
    }
   ],
   "source": [
    "p87(50)\n",
    "p87(5 * 10^7)"
   ]
  }
 ],
 "metadata": {
  "kernelspec": {
   "display_name": "SageMath 9.5",
   "language": "sage",
   "name": "sagemath"
  },
  "language_info": {
   "codemirror_mode": {
    "name": "ipython",
    "version": 3
   },
   "file_extension": ".py",
   "mimetype": "text/x-python",
   "name": "sage",
   "nbconvert_exporter": "python",
   "pygments_lexer": "ipython3",
   "version": "3.10.5"
  },
  "orig_nbformat": 4
 },
 "nbformat": 4,
 "nbformat_minor": 2
}
