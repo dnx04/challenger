{
 "cells": [
  {
   "cell_type": "markdown",
   "id": "c51e4ec7",
   "metadata": {},
   "source": [
    "# [Project Euler 323 - Bitwise-OR operations on random integers](https://projecteuler.net/problem=323)\n",
    "\n",
    "Because of the linearity of EV, we can calculate the EV that each bit is set independently.\n",
    "\n",
    "Let $E_i$ be expected value for a sequence of $i$ bit. \n",
    "- $E_0 = 0$.\n",
    "- $E_1 = 2$, the expected value of geometric distribution of $p = 0.5$: \n",
    "    - 0 with $p = 0.5$. Then, $E_1 = 0.5 \\times (1 + E_1)$, because we performed 1 trial, ends up in the same state, and the process is memoryless.\n",
    "    - 1 with $p = 0.5$. Then, $E_1 = 0.5 \\times 1$. \n",
    "    - Altogether, we have $E_1 = 0.5 \\times (1 + E_1) + 0.5 \\times 1 = 2$\n",
    "- $E_2 = \\frac{8}{3}$.\n",
    "    - Applying the above intuitions, we obtain the following formula: $E_2 = 0.25 \\times (1 + E_2) + 0.5 \\times (1 + E_1) + 0.25 \\times (1 + E_0)$.\n",
    "- $E_n = \\sum_{k = 0}^{n}\\binom{n}{k} \\times (1 + E_{n - k}) = \\dfrac{2^n + \\sum_{k = 0}^{n - 1}\\binom{n}{k} \\times (1 + E_{n - k})}{2^n - 1} $.\n",
    "\n",
    "The computation can be done with this formula in $O(n^2)$, but it can be optimize to be done in $O(n)$."
   ]
  },
  {
   "cell_type": "code",
   "execution_count": 1,
   "id": "ff51bc53",
   "metadata": {},
   "outputs": [],
   "source": [
    "def p323(inp):\n",
    "    E = [QQ(0)]\n",
    "    for n in range(1, inp + 1):\n",
    "        s = sum(binomial(n, k) * E[k] for k in range(n))\n",
    "        E.append(QQ((2**n + s) / (2**n - 1)))\n",
    "    return E[-1]"
   ]
  },
  {
   "cell_type": "markdown",
   "id": "3587aaf6",
   "metadata": {},
   "source": [
    "And let's get the answer!"
   ]
  },
  {
   "cell_type": "code",
   "execution_count": 2,
   "id": "2c388f2e",
   "metadata": {},
   "outputs": [
    {
     "data": {
      "text/plain": [
       "6.3551758451"
      ]
     },
     "execution_count": 2,
     "metadata": {},
     "output_type": "execute_result"
    }
   ],
   "source": [
    "round(p323(32), 10)"
   ]
  }
 ],
 "metadata": {
  "kernelspec": {
   "display_name": "SageMath 9.5",
   "language": "sage",
   "name": "sagemath"
  },
  "language_info": {
   "codemirror_mode": {
    "name": "ipython",
    "version": 3
   },
   "file_extension": ".py",
   "mimetype": "text/x-python",
   "name": "python",
   "nbconvert_exporter": "python",
   "pygments_lexer": "ipython3",
   "version": "3.10.5"
  }
 },
 "nbformat": 4,
 "nbformat_minor": 5
}
