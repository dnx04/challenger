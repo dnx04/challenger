{
 "cells": [
  {
   "cell_type": "markdown",
   "metadata": {},
   "source": [
    "# [Project Euler 243 - Resilience](https://projecteuler.net/problem=243)\n",
    "\n",
    "It's easy to see that for a fixed $n$, $R(n) = \\dfrac{\\varphi(n)}{n - 1}$. Also let's recall that $\\varphi(n)= n \\cdot \\prod_{p|n} \\left( 1-\\frac{1}{p} \\right)$.\n",
    "\n",
    "By some guesswork, one can see that the answer is a multiple of $2 \\times 3 \\times \\dots p$ e.g the product of starting primes."
   ]
  },
  {
   "cell_type": "code",
   "execution_count": 1,
   "metadata": {},
   "outputs": [],
   "source": [
    "def p243(ratio):\n",
    "    nth = 8\n",
    "    res = Infinity\n",
    "    LIM = 10^18\n",
    "    while True:\n",
    "        p = prod(primes_first_n(nth))\n",
    "        if p >= LIM:\n",
    "            break\n",
    "        i = 1\n",
    "        while euler_phi(p * i) / (p * i - 1) >= ratio and p * i <= LIM:\n",
    "            i += 1\n",
    "        res = min(res, p * i)\n",
    "        nth += 1\n",
    "    return res\n"
   ]
  },
  {
   "cell_type": "code",
   "execution_count": 2,
   "metadata": {},
   "outputs": [
    {
     "data": {
      "text/plain": [
       "892371480"
      ]
     },
     "execution_count": 2,
     "metadata": {},
     "output_type": "execute_result"
    }
   ],
   "source": [
    "p243(15499/94744)"
   ]
  }
 ],
 "metadata": {
  "kernelspec": {
   "display_name": "SageMath 9.5",
   "language": "sage",
   "name": "sagemath"
  },
  "language_info": {
   "codemirror_mode": {
    "name": "ipython",
    "version": 3
   },
   "file_extension": ".py",
   "mimetype": "text/x-python",
   "name": "python",
   "nbconvert_exporter": "python",
   "pygments_lexer": "ipython3",
   "version": "3.11.2"
  },
  "orig_nbformat": 4
 },
 "nbformat": 4,
 "nbformat_minor": 2
}
