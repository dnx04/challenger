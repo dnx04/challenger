{
 "cells": [
  {
   "cell_type": "markdown",
   "metadata": {},
   "source": [
    "# [Project Euler 115 - Counting block combinations II](https://projecteuler.net/problem=115)"
   ]
  },
  {
   "cell_type": "code",
   "execution_count": 58,
   "metadata": {
    "vscode": {
     "languageId": "python"
    }
   },
   "outputs": [],
   "source": [
    "import bisect"
   ]
  },
  {
   "cell_type": "code",
   "execution_count": 59,
   "metadata": {
    "vscode": {
     "languageId": "python"
    }
   },
   "outputs": [],
   "source": [
    "def p114(m, bound):\n",
    "    n = 1000\n",
    "    f = [0] * (n + 1)\n",
    "    sf = [0] * (n + 1)\n",
    "    for i in range(len(f)):\n",
    "        if i < m:\n",
    "            f[i] = 1\n",
    "        else:\n",
    "            f[i] = f[i - 1] + sum(f[:i - m]) + 1\n",
    "        if i > 0:\n",
    "            sf[i] = sf[i - 1] + f[i]\n",
    "    return bisect.bisect_right(f, bound)"
   ]
  },
  {
   "cell_type": "code",
   "execution_count": 60,
   "metadata": {
    "vscode": {
     "languageId": "python"
    }
   },
   "outputs": [
    {
     "data": {
      "text/plain": [
       "168"
      ]
     },
     "execution_count": 60,
     "metadata": {},
     "output_type": "execute_result"
    }
   ],
   "source": [
    "p114(50, 10^6)"
   ]
  }
 ],
 "metadata": {
  "kernelspec": {
   "display_name": "SageMath 9.5",
   "language": "sage",
   "name": "sagemath"
  },
  "language_info": {
   "codemirror_mode": {
    "name": "ipython",
    "version": 3
   },
   "file_extension": ".py",
   "mimetype": "text/x-python",
   "name": "sage",
   "nbconvert_exporter": "python",
   "pygments_lexer": "ipython3",
   "version": "3.10.5"
  },
  "orig_nbformat": 4,
  "vscode": {
   "interpreter": {
    "hash": "6d1d83bd288783166839eaf41cc899ee5b370f43f2d31bb90c4d7a970be842ab"
   }
  }
 },
 "nbformat": 4,
 "nbformat_minor": 2
}
