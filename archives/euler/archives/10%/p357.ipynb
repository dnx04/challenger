{
 "cells": [
  {
   "cell_type": "markdown",
   "metadata": {},
   "source": [
    "# [Project Euler 357 - Prime generating integers](https://projecteuler.net/problem=357)\n",
    "\n",
    "Forget to count 1 to your answer may cost you around 30 minutes of debugging time.\n",
    "\n",
    "It's easy to see for all satisfying $n$, $n + 1$ must be prime, which means $n$ is even, which also says that $n / 2 + 2$ must be prime. So $n$ has the form of $4k + 2$. Combining these 3 facts, and iterate through all divisors cleverly, and walla!"
   ]
  },
  {
   "cell_type": "code",
   "execution_count": 51,
   "metadata": {},
   "outputs": [],
   "source": [
    "def p357(n):\n",
    "    ans = 0\n",
    "    for i in range(2, n + 1, 4):\n",
    "        if is_prime(i + 1) and is_prime(i // 2 + 2):\n",
    "            if all(is_prime(d + i // d) for d in divisors(i) if 3 <= d and d * d < i):\n",
    "                ans += i\n",
    "    return ans + 1"
   ]
  },
  {
   "cell_type": "code",
   "execution_count": 52,
   "metadata": {},
   "outputs": [
    {
     "data": {
      "text/plain": [
       "1739023853137"
      ]
     },
     "execution_count": 52,
     "metadata": {},
     "output_type": "execute_result"
    }
   ],
   "source": [
    "p357(10^8)"
   ]
  }
 ],
 "metadata": {
  "kernelspec": {
   "display_name": "SageMath 9.5",
   "language": "sage",
   "name": "sagemath"
  },
  "language_info": {
   "codemirror_mode": {
    "name": "ipython",
    "version": 3
   },
   "file_extension": ".py",
   "mimetype": "text/x-python",
   "name": "python",
   "nbconvert_exporter": "python",
   "pygments_lexer": "ipython3",
   "version": "3.10.5"
  },
  "orig_nbformat": 4
 },
 "nbformat": 4,
 "nbformat_minor": 2
}
