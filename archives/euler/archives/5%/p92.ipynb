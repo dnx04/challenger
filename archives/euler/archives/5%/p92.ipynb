{
 "cells": [
  {
   "cell_type": "markdown",
   "metadata": {},
   "source": [
    "# [Project Euler 92 - Square digit chains](https://projecteuler.net/problem=92)\n",
    "\n",
    "The sum of square of digits cannot exceed $81n$ where $n$ is the number of digits. \n",
    "\n",
    "With $n = 10^7$, we can simulate the construction in the first $567$ natural numbers, then iterate through the rest, if its sum of square of digits can lead to 89, increment the answer. Python loop is painfully slow however, if this algorithm is implemented in C++, the runtime can be less than 0.1s."
   ]
  },
  {
   "cell_type": "code",
   "execution_count": 3,
   "metadata": {},
   "outputs": [],
   "source": [
    "def p92(n):\n",
    "    m = 81 * log_b(n, 10) + 1\n",
    "    chk = [False for i in range(m)]\n",
    "    ans = 0\n",
    "    for i in range(1, m):\n",
    "        tmp = i\n",
    "        while tmp != 1 and tmp != 89:\n",
    "            tmp = sum(int(x)^2 for x in str(tmp))\n",
    "        if tmp == 89:\n",
    "            chk[i] = True\n",
    "            ans += 1\n",
    "    for i in range(m, n):\n",
    "        sqsd = sum(int(x)^2 for x in str(i))\n",
    "        if chk[sqsd] == True:\n",
    "            ans += 1\n",
    "    return ans"
   ]
  },
  {
   "cell_type": "code",
   "execution_count": 4,
   "metadata": {},
   "outputs": [
    {
     "data": {
      "text/plain": [
       "8581146"
      ]
     },
     "execution_count": 4,
     "metadata": {},
     "output_type": "execute_result"
    }
   ],
   "source": [
    "p92(10^7)"
   ]
  }
 ],
 "metadata": {
  "kernelspec": {
   "display_name": "Python 3.10.5 64-bit",
   "language": "python",
   "name": "python3"
  },
  "language_info": {
   "codemirror_mode": {
    "name": "ipython",
    "version": 3
   },
   "file_extension": ".py",
   "mimetype": "text/x-python",
   "name": "python",
   "nbconvert_exporter": "python",
   "pygments_lexer": "ipython3",
   "version": "3.10.5"
  },
  "orig_nbformat": 4,
  "vscode": {
   "interpreter": {
    "hash": "916dbcbb3f70747c44a77c7bcd40155683ae19c65e1c03b4aa3499c5328201f1"
   }
  }
 },
 "nbformat": 4,
 "nbformat_minor": 2
}
