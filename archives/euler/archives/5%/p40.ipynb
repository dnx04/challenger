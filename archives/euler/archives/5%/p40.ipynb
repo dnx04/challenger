{
 "cells": [
  {
   "cell_type": "markdown",
   "metadata": {},
   "source": [
    "# [Project Euler 40 - Champernowne's constant](https://projecteuler.net/problem=40)\n",
    "\n",
    "I'm lazy so I just bruteforcing thing. There surely exists $\\mathcal{O}(1)$ implementation to find the $n$-th digit in the Champernowne's constant however."
   ]
  },
  {
   "cell_type": "code",
   "execution_count": 5,
   "metadata": {},
   "outputs": [],
   "source": [
    "def p40(pos):\n",
    "    l = max(pos)\n",
    "    d = ''\n",
    "    i = 1\n",
    "    while len(d) <= l:\n",
    "        d += str(i)\n",
    "        i += 1\n",
    "    return prod(int(d[i - 1]) for i in pos)"
   ]
  },
  {
   "cell_type": "code",
   "execution_count": 6,
   "metadata": {},
   "outputs": [
    {
     "data": {
      "text/plain": [
       "210"
      ]
     },
     "execution_count": 6,
     "metadata": {},
     "output_type": "execute_result"
    }
   ],
   "source": [
    "p40([1, 10, 100, 10^3, 10^4, 10^5, 10^6])"
   ]
  }
 ],
 "metadata": {
  "kernelspec": {
   "display_name": "SageMath 9.5",
   "language": "sage",
   "name": "sagemath"
  },
  "language_info": {
   "codemirror_mode": {
    "name": "ipython",
    "version": 3
   },
   "file_extension": ".py",
   "mimetype": "text/x-python",
   "name": "python",
   "nbconvert_exporter": "python",
   "pygments_lexer": "ipython3",
   "version": "3.10.5"
  },
  "orig_nbformat": 4,
  "vscode": {
   "interpreter": {
    "hash": "916dbcbb3f70747c44a77c7bcd40155683ae19c65e1c03b4aa3499c5328201f1"
   }
  }
 },
 "nbformat": 4,
 "nbformat_minor": 2
}
