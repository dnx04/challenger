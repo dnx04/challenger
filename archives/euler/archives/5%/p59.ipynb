{
 "cells": [
  {
   "cell_type": "markdown",
   "metadata": {},
   "source": [
    "# [Project Euler 59 - XOR Decryption](https://projecteuler.net/problem=59)\n",
    "\n",
    "I also plays CTF, so `pwntools` comes in handy."
   ]
  },
  {
   "cell_type": "code",
   "execution_count": 94,
   "metadata": {},
   "outputs": [],
   "source": [
    "from pwn import *"
   ]
  },
  {
   "cell_type": "code",
   "execution_count": 95,
   "metadata": {},
   "outputs": [],
   "source": [
    "def p59():\n",
    "    key = b'exp'\n",
    "    ls = [int(i) for i in open('data/p059_cipher.txt').read().split(',')]\n",
    "    return sum([ord(i) for i in xor(key, ls).decode() if i.isascii()])"
   ]
  },
  {
   "cell_type": "code",
   "execution_count": 96,
   "metadata": {},
   "outputs": [
    {
     "data": {
      "text/plain": [
       "129448"
      ]
     },
     "execution_count": 96,
     "metadata": {},
     "output_type": "execute_result"
    }
   ],
   "source": [
    "p59()"
   ]
  }
 ],
 "metadata": {
  "kernelspec": {
   "display_name": "Python 3.10.5 ('.venv': venv)",
   "language": "python",
   "name": "python3"
  },
  "language_info": {
   "codemirror_mode": {
    "name": "ipython",
    "version": 3
   },
   "file_extension": ".py",
   "mimetype": "text/x-python",
   "name": "python",
   "nbconvert_exporter": "python",
   "pygments_lexer": "ipython3",
   "version": "3.10.5"
  },
  "orig_nbformat": 4,
  "vscode": {
   "interpreter": {
    "hash": "6d1d83bd288783166839eaf41cc899ee5b370f43f2d31bb90c4d7a970be842ab"
   }
  }
 },
 "nbformat": 4,
 "nbformat_minor": 2
}
