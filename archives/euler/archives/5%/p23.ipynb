{
 "cells": [
  {
   "cell_type": "markdown",
   "metadata": {},
   "source": [
    "# [Project Euler 23 - Non-abundant sums](https://projecteuler.net/problem=23)\n",
    "\n",
    "The maximum number which cannot be written as the sum of 2 abundant numbers is 20161."
   ]
  },
  {
   "cell_type": "code",
   "execution_count": 28,
   "metadata": {},
   "outputs": [],
   "source": [
    "def p23(n):\n",
    "    abundant = []\n",
    "    for i in range(1, n + 1):\n",
    "        if sum(divisors(i)) > 2 * i:\n",
    "            abundant.append(i)\n",
    "    cant = [True] * (n + 1)\n",
    "    sz = len(abundant)\n",
    "    for i in range(sz):\n",
    "        for j in range(i, sz):\n",
    "            if abundant[i] + abundant[j] <= n:\n",
    "                cant[abundant[i] + abundant[j]] = False\n",
    "            else:\n",
    "                break\n",
    "    return sum([i for i in range(n + 1) if cant[i] == True])"
   ]
  },
  {
   "cell_type": "code",
   "execution_count": 29,
   "metadata": {},
   "outputs": [
    {
     "data": {
      "text/plain": [
       "4179871"
      ]
     },
     "execution_count": 29,
     "metadata": {},
     "output_type": "execute_result"
    }
   ],
   "source": [
    "p23(28123)"
   ]
  }
 ],
 "metadata": {
  "kernelspec": {
   "display_name": "Python 3.10.5 64-bit",
   "language": "python",
   "name": "python3"
  },
  "language_info": {
   "codemirror_mode": {
    "name": "ipython",
    "version": 3
   },
   "file_extension": ".py",
   "mimetype": "text/x-python",
   "name": "python",
   "nbconvert_exporter": "python",
   "pygments_lexer": "ipython3",
   "version": "3.10.5"
  },
  "orig_nbformat": 4,
  "vscode": {
   "interpreter": {
    "hash": "916dbcbb3f70747c44a77c7bcd40155683ae19c65e1c03b4aa3499c5328201f1"
   }
  }
 },
 "nbformat": 4,
 "nbformat_minor": 2
}
