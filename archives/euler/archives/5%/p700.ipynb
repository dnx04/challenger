{
 "cells": [
  {
   "cell_type": "markdown",
   "metadata": {},
   "source": [
    "# [Project Euler 700 - Eulercoins](https://projecteuler.net/problem=700)\n",
    "\n",
    "$\\gcd(1504170715041707, 4503599627370517) = 1$, and $4503599627370517$ is a prime, so there exists $1$ as the smallest Eulercoin, when $n = 1504170715041707^{-1} \\bmod 4503599627370517 = 3451657199285664$. Looping until this $n$ is not a clever idea.\n",
    "\n",
    "In all $n \\le 5 \\times 10^7$, we have the 16th Eulercoin, $15806432$ when $n = 42298633$. This allows us to employ a useful trick - bidirectional search. We have two facts below: \n",
    "\n",
    "- When iterating through $n$, the Eulercoins get smaller and smaller very fast, and while iterating through possible small Eulercoins, $n$ get smaller and smaller very fast too.\n",
    "- When you plug $n$ into the equation, you may get an Eulercoin. But when you plug a possible Eulercoin into the inversed equation, $3451657199285664x \\bmod 4503599627370517$, you get the $n$ which generates that Eulercoin.\n",
    "\n",
    "These facts can be used to crack the problem by picking a small enough bound so that we can brute force in both direction. The 16th Eulercoin is the most appropriate here. By iterating through all $n$ until $42298633$, you get all big Eulercoins until the 16th one - $15806432$, and it left to test all small Eulercoins from $1$ to $15806431$, which is very feasible."
   ]
  },
  {
   "cell_type": "code",
   "execution_count": 1,
   "metadata": {},
   "outputs": [],
   "source": [
    "R = IntegerModRing(4503599627370517)\n",
    "euler = R(1504170715041707)\n",
    "inv_euler = euler^(-1)"
   ]
  },
  {
   "cell_type": "code",
   "execution_count": 65,
   "metadata": {},
   "outputs": [],
   "source": [
    "def p700():\n",
    "    ans = 0\n",
    "\n",
    "    mn = Infinity\n",
    "    tmp = R(0)\n",
    "    for i in range(45 * 10^6):\n",
    "        tmp += euler\n",
    "        if int(tmp) < mn:\n",
    "            mn = tmp\n",
    "            print(i + 1, mn)\n",
    "            ans += mn\n",
    "    bound = mn - 1\n",
    "    mn = Infinity\n",
    "    tmp = R(0)\n",
    "    for i in range(bound):\n",
    "        tmp += inv_euler\n",
    "        if int(tmp) < mn:\n",
    "            mn = tmp\n",
    "            print(i + 1, mn)\n",
    "            ans += i + 1\n",
    "    return ans\n"
   ]
  },
  {
   "cell_type": "code",
   "execution_count": 66,
   "metadata": {},
   "outputs": [
    {
     "name": "stdout",
     "output_type": "stream",
     "text": [
      "1 1504170715041707\n",
      "3 8912517754604\n",
      "506 2044785486369\n",
      "2527 1311409677241\n",
      "4548 578033868113\n",
      "11117 422691927098\n",
      "17686 267349986083\n",
      "24255 112008045068\n",
      "55079 68674149121\n",
      "85903 25340253174\n",
      "202630 7346610401\n",
      "724617 4046188430\n",
      "1246604 745766459\n",
      "6755007 428410324\n",
      "12263410 111054189\n",
      "42298633 15806432\n",
      "1 3451657199285664\n",
      "2 2399714771200811\n",
      "3 1347772343115958\n",
      "4 295829915031105\n",
      "17 131377232039567\n",
      "47 98301781087596\n",
      "77 65226330135625\n",
      "107 32150879183654\n",
      "244 31226307415337\n",
      "381 30301735647020\n",
      "518 29377163878703\n",
      "655 28452592110386\n",
      "792 27528020342069\n",
      "929 26603448573752\n",
      "1066 25678876805435\n",
      "1203 24754305037118\n",
      "1340 23829733268801\n",
      "1477 22905161500484\n",
      "1614 21980589732167\n",
      "1751 21056017963850\n",
      "1888 20131446195533\n",
      "2025 19206874427216\n",
      "2162 18282302658899\n",
      "2299 17357730890582\n",
      "2436 16433159122265\n",
      "2573 15508587353948\n",
      "2710 14584015585631\n",
      "2847 13659443817314\n",
      "2984 12734872048997\n",
      "3121 11810300280680\n",
      "3258 10885728512363\n",
      "3395 9961156744046\n",
      "3532 9036584975729\n",
      "3669 8112013207412\n",
      "3806 7187441439095\n",
      "3943 6262869670778\n",
      "4080 5338297902461\n",
      "4217 4413726134144\n",
      "4354 3489154365827\n",
      "4491 2564582597510\n",
      "4628 1640010829193\n",
      "4765 715439060876\n",
      "9667 506306353435\n",
      "14569 297173645994\n",
      "19471 88040938553\n",
      "63315 54990108218\n",
      "107159 21939277883\n",
      "258162 10827725431\n",
      "667327 10543898410\n",
      "1076492 10260071389\n",
      "1485657 9976244368\n",
      "1894822 9692417347\n",
      "2303987 9408590326\n",
      "2713152 9124763305\n",
      "3122317 8840936284\n",
      "3531482 8557109263\n",
      "3940647 8273282242\n",
      "4349812 7989455221\n",
      "4758977 7705628200\n",
      "5168142 7421801179\n",
      "5577307 7137974158\n",
      "5986472 6854147137\n",
      "6395637 6570320116\n",
      "6804802 6286493095\n",
      "7213967 6002666074\n",
      "7623132 5718839053\n",
      "8032297 5435012032\n",
      "8441462 5151185011\n",
      "8850627 4867357990\n",
      "9259792 4583530969\n",
      "9668957 4299703948\n",
      "10078122 4015876927\n",
      "10487287 3732049906\n",
      "10896452 3448222885\n",
      "11305617 3164395864\n",
      "11714782 2880568843\n",
      "12123947 2596741822\n",
      "12533112 2312914801\n",
      "12942277 2029087780\n",
      "13351442 1745260759\n",
      "13760607 1461433738\n",
      "14169772 1177606717\n",
      "14578937 893779696\n",
      "14988102 609952675\n",
      "15397267 326125654\n"
     ]
    },
    {
     "data": {
      "text/plain": [
       "1517926517777556"
      ]
     },
     "execution_count": 66,
     "metadata": {},
     "output_type": "execute_result"
    }
   ],
   "source": [
    "p700()"
   ]
  },
  {
   "cell_type": "markdown",
   "metadata": {},
   "source": [
    "Another approach from radeye, an Eulerian. \n",
    "\n",
    "This solution and all blazingly fast solution runs using Euclidean algorithm.\n",
    "\n",
    "The differences between 2 first Eulercoins are actually $d = 4503599627370517 \\bmod 1504170715041707$. Successive Eulercoins will have the same $d$ until an Eulercoin $e < d$, then the new difference will be $d \\bmod e$. So it's quite a Euclidean-like algorithm."
   ]
  },
  {
   "cell_type": "code",
   "execution_count": 10,
   "metadata": {},
   "outputs": [],
   "source": [
    "def radeye():\n",
    "    ans = euler\n",
    "    lo, hi = euler, euler\n",
    "    while lo > 0:\n",
    "        nxt = (lo + hi)\n",
    "        if nxt < lo:\n",
    "            lo = nxt\n",
    "            ans += lo\n",
    "        else:\n",
    "            hi = nxt\n",
    "    return ans"
   ]
  },
  {
   "cell_type": "code",
   "execution_count": 11,
   "metadata": {},
   "outputs": [
    {
     "data": {
      "text/plain": [
       "1517926517777556"
      ]
     },
     "execution_count": 11,
     "metadata": {},
     "output_type": "execute_result"
    }
   ],
   "source": [
    "radeye()"
   ]
  }
 ],
 "metadata": {
  "kernelspec": {
   "display_name": "Python 3.10.5 64-bit",
   "language": "python",
   "name": "python3"
  },
  "language_info": {
   "codemirror_mode": {
    "name": "ipython",
    "version": 3
   },
   "file_extension": ".py",
   "mimetype": "text/x-python",
   "name": "python",
   "nbconvert_exporter": "python",
   "pygments_lexer": "ipython3",
   "version": "3.10.5"
  },
  "orig_nbformat": 4,
  "vscode": {
   "interpreter": {
    "hash": "916dbcbb3f70747c44a77c7bcd40155683ae19c65e1c03b4aa3499c5328201f1"
   }
  }
 },
 "nbformat": 4,
 "nbformat_minor": 2
}
