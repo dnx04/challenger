{
 "cells": [
  {
   "cell_type": "markdown",
   "metadata": {},
   "source": [
    "# [Project Euler 18 - Maximum Path Sum I](https://projecteuler.net/problem=18)"
   ]
  },
  {
   "cell_type": "code",
   "execution_count": 23,
   "metadata": {},
   "outputs": [],
   "source": [
    "def p18():\n",
    "    a = [list(map(int, line.split())) for line in open('data/p18.txt')]\n",
    "    dp = [[0 for _ in range(len(a[i]))] for i in range(len(a))]\n",
    "    dp[0][0] = a[0][0]\n",
    "    ans = 0\n",
    "    for i in range(len(a) - 1):\n",
    "        for j in range(len(a[i])):\n",
    "            dp[i + 1][j] = max(dp[i + 1][j], dp[i][j] + a[i + 1][j])\n",
    "            dp[i + 1][j + 1] = max(dp[i + 1][j + 1], dp[i][j] + a[i + 1][j + 1])\n",
    "    for i in range(len(a) - 1):\n",
    "        ans = max(ans, dp[len(a) - 1][i])\n",
    "    return ans\n",
    "                "
   ]
  },
  {
   "cell_type": "code",
   "execution_count": 24,
   "metadata": {},
   "outputs": [
    {
     "data": {
      "text/plain": [
       "1074"
      ]
     },
     "execution_count": 24,
     "metadata": {},
     "output_type": "execute_result"
    }
   ],
   "source": [
    "p18()"
   ]
  }
 ],
 "metadata": {
  "kernelspec": {
   "display_name": "Python 3.10.5 ('.venv': venv)",
   "language": "python",
   "name": "python3"
  },
  "language_info": {
   "codemirror_mode": {
    "name": "ipython",
    "version": 3
   },
   "file_extension": ".py",
   "mimetype": "text/x-python",
   "name": "python",
   "nbconvert_exporter": "python",
   "pygments_lexer": "ipython3",
   "version": "3.10.5"
  },
  "orig_nbformat": 4,
  "vscode": {
   "interpreter": {
    "hash": "5c785e0c636f82b564b926319a8b75c5ee37c7def92475338cd5073eabacb7b2"
   }
  }
 },
 "nbformat": 4,
 "nbformat_minor": 2
}
