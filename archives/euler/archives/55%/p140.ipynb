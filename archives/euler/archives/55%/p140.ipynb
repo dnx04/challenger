{
 "cells": [
  {
   "cell_type": "markdown",
   "metadata": {},
   "source": [
    "# [Project Euler 140 - Modified Fibonacci Golden Nuggets](https://projecteuler.net/problem=140)\n",
    "\n",
    "The generating function for the sequence $G$ is $g_2(x) = \\frac{x + 3x^2}{1 - x - x^2}$, a little bit different from Fibonacci.\n",
    "\n",
    "And the form of $x$ turns out to be different too. Evaluate the function $g_2$ at points described in the problem statement, we can see that the solution is now the fraction of consecutive elements of 2 sequence:\n",
    "$F = 1, 2, 3, 5, 8, 13,\\dots$, and $G = 2, 5, 7, 12, 19, 31,\\dots$\n",
    "\n",
    "The golden nuggets also have a closed form: $A(n) = 7A(n - 2) - A(n - 4) + 7$. One can even bruteforce a few first golden nuggets, then use Berlekamp-Massey algorithm to get this recurrence relation. This formula is also required if you want to get Accepted on HackerRank."
   ]
  },
  {
   "cell_type": "code",
   "execution_count": 42,
   "metadata": {},
   "outputs": [],
   "source": [
    "from functools import cache"
   ]
  },
  {
   "cell_type": "code",
   "execution_count": 43,
   "metadata": {},
   "outputs": [],
   "source": [
    "@cache\n",
    "def f(n):\n",
    "    if n <= 2:\n",
    "        return n\n",
    "    return f(n - 1) + f(n - 2)\n",
    "\n",
    "@cache\n",
    "def g(n):\n",
    "    if n == 1:\n",
    "        return 2\n",
    "    if n == 2:\n",
    "        return 5\n",
    "    return g(n - 1) + g(n - 2)\n",
    "\n",
    "def g2(x):\n",
    "    return (x + 3*x^2) / (1 - x - x^2)\n",
    "\n",
    "def p140(n):\n",
    "    ans = 0\n",
    "    for i in range(0, n, 2):\n",
    "        x = QQ(g(i + 1) / g(i+ 2))\n",
    "        ans += g2(x)\n",
    "        if i + 1 < n:\n",
    "            x = QQ(f(i + 1) / f(i + 2))\n",
    "            ans += g2(x)\n",
    "    return ans"
   ]
  },
  {
   "cell_type": "code",
   "execution_count": 44,
   "metadata": {},
   "outputs": [
    {
     "data": {
      "text/plain": [
       "5673835352990"
      ]
     },
     "execution_count": 44,
     "metadata": {},
     "output_type": "execute_result"
    }
   ],
   "source": [
    "p140(30)"
   ]
  }
 ],
 "metadata": {
  "kernelspec": {
   "display_name": "SageMath 9.5",
   "language": "sage",
   "name": "sagemath"
  },
  "language_info": {
   "codemirror_mode": {
    "name": "ipython",
    "version": 3
   },
   "file_extension": ".py",
   "mimetype": "text/x-python",
   "name": "python",
   "nbconvert_exporter": "python",
   "pygments_lexer": "ipython3",
   "version": "3.10.5"
  },
  "orig_nbformat": 4
 },
 "nbformat": 4,
 "nbformat_minor": 2
}
