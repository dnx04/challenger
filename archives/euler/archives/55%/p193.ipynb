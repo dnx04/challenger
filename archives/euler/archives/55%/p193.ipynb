{
 "cells": [
  {
   "cell_type": "markdown",
   "metadata": {},
   "source": [
    "# [Project Euler 193 - Squarefree Numbers](https://projecteuler.net/problem=193)\n",
    "\n",
    "This is a tutorial to Mobius function and inclusion-exclusion principle in computing.\n",
    "\n",
    "Let $S(n)$ denote the number of squarefree number $\\le n$, i.e. \n",
    "$$S(n) = \\sum_{d=1}^{n} |\\mu(d)|.$$\n",
    "Then we have: \n",
    "$$\n",
    "\\begin{equation}\n",
    "S(n) = \\sum_{d=1}^{\\lfloor\\sqrt{n}\\rfloor}\\mu(d)\\left\\lfloor\\frac{n}{d^2}\\right\\rfloor.\n",
    "\\end{equation}\n",
    "$$\n",
    "[Proof](https://smsxgz.github.io/post/pe/counting_square_free_numbers/#2-the-tilde-mathcal-o-sqrt-n-algorithm)\n",
    "\n",
    "The solution works in $O(\\sqrt{n})$ with $n = \\sqrt{2^{50}}$, so this approach is fast enough. Besides, there is also a much faster solution works in $O(n^{0.4})$: [The modified algorithm using Mertens function](https://smsxgz.github.io/post/pe/counting_square_free_numbers/#3-the-modified-algorithm)\n",
    "\n",
    "We will precompute all Mobius values below $\\sqrt{2^{50}}$ because using SageMath one is slow, and Mobius function can be dynamically precomputed."
   ]
  },
  {
   "cell_type": "code",
   "execution_count": 3,
   "metadata": {},
   "outputs": [],
   "source": [
    "def Mobius(n):\n",
    "    prime = [1] * (n + 1)\n",
    "    mobius = [1] * (n + 1)\n",
    "\n",
    "    for i in range(2, n + 1):\n",
    "        if not prime[i]:\n",
    "            continue\n",
    "        mobius[i] = -1\n",
    "        for j in range(2, n // i + 1):\n",
    "            prime[i * j] = 0\n",
    "            mobius[i * j] *= -1\n",
    "        for j in range(1, n // (i * i) + 1):\n",
    "            mobius[j * i * i] = 0\n",
    "    return mobius"
   ]
  },
  {
   "cell_type": "markdown",
   "metadata": {},
   "source": [
    "Apply the given formulas:"
   ]
  },
  {
   "cell_type": "code",
   "execution_count": 4,
   "metadata": {},
   "outputs": [],
   "source": [
    "def p193(n):\n",
    "    sq = int(sqrt(n))\n",
    "    mobius = Mobius(sq)\n",
    "    ans = 0\n",
    "    for d in range(1, sq + 1):\n",
    "        ans += mobius[d] * (n // (d * d))\n",
    "    return ans"
   ]
  },
  {
   "cell_type": "markdown",
   "metadata": {},
   "source": [
    "And get our answer."
   ]
  },
  {
   "cell_type": "code",
   "execution_count": 3,
   "metadata": {},
   "outputs": [
    {
     "data": {
      "text/plain": [
       "684465067343069"
      ]
     },
     "execution_count": 3,
     "metadata": {},
     "output_type": "execute_result"
    }
   ],
   "source": [
    "p193(2^50)"
   ]
  }
 ],
 "metadata": {
  "kernelspec": {
   "display_name": "SageMath 9.5",
   "language": "sage",
   "name": "sagemath"
  },
  "language_info": {
   "codemirror_mode": {
    "name": "ipython",
    "version": 3
   },
   "file_extension": ".py",
   "mimetype": "text/x-python",
   "name": "python",
   "nbconvert_exporter": "python",
   "pygments_lexer": "ipython3",
   "version": "3.10.5"
  },
  "orig_nbformat": 4,
  "vscode": {
   "interpreter": {
    "hash": "5c785e0c636f82b564b926319a8b75c5ee37c7def92475338cd5073eabacb7b2"
   }
  }
 },
 "nbformat": 4,
 "nbformat_minor": 2
}
