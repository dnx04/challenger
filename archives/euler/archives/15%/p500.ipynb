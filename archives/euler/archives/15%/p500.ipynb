{
 "cells": [
  {
   "cell_type": "markdown",
   "metadata": {},
   "source": [
    "# [Project Euler 500 - Problem 500!!!](https://projecteuler.net/problem=500)\n",
    "\n",
    "This is a very neat implementation for this problem, and I'm proud of myself for being able to come up with it.\n",
    "\n",
    "We can easily observe that the prime exponent of a number having $2^n$ divisors should be in the form of $2^k - 1$. The second observation is $2^k - 1 = 1 + 2 + 2^2 + \\dots + 2^{k - 1}$, so we can implement a greedy algorithm as follow:\n",
    "\n",
    "- Create a min-heap Priority Queue $\\text{pq}$ storing prime powers in the form of $p^{2^k}$. Initially it has a $2$. I use `heapq`, the Python built-in priority queue. \n",
    "- For each iteration, pop the smallest prime power in the $\\text{pq}$ and multiply the answer with it.\n",
    "    - If the popped prime power is a prime, then push the next prime greater than it to the $\\text{pq}$.\n",
    "    - Else, push the square of the popped prime power into the $\\text{pq}$."
   ]
  },
  {
   "cell_type": "code",
   "execution_count": 132,
   "metadata": {},
   "outputs": [],
   "source": [
    "import heapq\n",
    "\n",
    "MOD = 500500507\n",
    "R = IntegerModRing(MOD)\n",
    "P = Primes()"
   ]
  },
  {
   "cell_type": "code",
   "execution_count": 133,
   "metadata": {},
   "outputs": [],
   "source": [
    "def p500(d):\n",
    "    ans = R(1)\n",
    "    pq = [2]\n",
    "    for itr in range(d):\n",
    "        pick = heapq.heappop(pq)\n",
    "        ans *= pick\n",
    "        if is_prime(pick):\n",
    "            heapq.heappush(pq, next_prime(pick))\n",
    "        heapq.heappush(pq, pick * pick)\n",
    "    return ans"
   ]
  },
  {
   "cell_type": "code",
   "execution_count": 134,
   "metadata": {},
   "outputs": [
    {
     "data": {
      "text/plain": [
       "35407281"
      ]
     },
     "execution_count": 134,
     "metadata": {},
     "output_type": "execute_result"
    }
   ],
   "source": [
    "p500(500500)"
   ]
  }
 ],
 "metadata": {
  "kernelspec": {
   "display_name": "Python 3.10.5 64-bit",
   "language": "python",
   "name": "python3"
  },
  "language_info": {
   "codemirror_mode": {
    "name": "ipython",
    "version": 3
   },
   "file_extension": ".py",
   "mimetype": "text/x-python",
   "name": "python",
   "nbconvert_exporter": "python",
   "pygments_lexer": "ipython3",
   "version": "3.10.5"
  },
  "orig_nbformat": 4,
  "vscode": {
   "interpreter": {
    "hash": "916dbcbb3f70747c44a77c7bcd40155683ae19c65e1c03b4aa3499c5328201f1"
   }
  }
 },
 "nbformat": 4,
 "nbformat_minor": 2
}
