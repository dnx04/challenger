{
 "cells": [
  {
   "cell_type": "markdown",
   "metadata": {},
   "source": [
    "# Project Euler 83 - Path sum: 4 ways"
   ]
  },
  {
   "cell_type": "code",
   "execution_count": 17,
   "metadata": {},
   "outputs": [],
   "source": [
    "def p81():\n",
    "    a = [list(map(int, line.split(','))) for line in open('data/p081_matrix.txt')]\n",
    "    n = len(a)\n",
    "    d = [[Infinity] * n for i in range(n)]\n",
    "    def dist(x, y):\n",
    "        if x < 0 or x >= n or y < 0 or y >= n:\n",
    "            return Infinity\n",
    "        return d[x][y]\n",
    "    d[0][0] = a[0][0]\n",
    "\n",
    "    # Bellman Ford algorithm - credit: Nayuki\n",
    "    changed = True\n",
    "    while changed:\n",
    "        changed = False\n",
    "        for i in range(n):\n",
    "            for j in range(n):\n",
    "                tmp = a[i][j] + min(dist(i + 1, j), dist(i, j + 1), dist(i - 1, j), dist(i , j - 1))\n",
    "                if tmp < d[i][j]:\n",
    "                    d[i][j] = tmp\n",
    "                    changed = True\n",
    "    return d[n - 1][n - 1]\n",
    "    \n",
    "    "
   ]
  },
  {
   "cell_type": "code",
   "execution_count": 18,
   "metadata": {},
   "outputs": [
    {
     "data": {
      "text/plain": [
       "425185"
      ]
     },
     "execution_count": 18,
     "metadata": {},
     "output_type": "execute_result"
    }
   ],
   "source": [
    "p81()"
   ]
  }
 ],
 "metadata": {
  "kernelspec": {
   "display_name": "SageMath 9.5",
   "language": "sage",
   "name": "sagemath"
  },
  "language_info": {
   "codemirror_mode": {
    "name": "ipython",
    "version": 3
   },
   "file_extension": ".py",
   "mimetype": "text/x-python",
   "name": "python",
   "nbconvert_exporter": "python",
   "pygments_lexer": "ipython3",
   "version": "3.10.5"
  },
  "orig_nbformat": 4,
  "vscode": {
   "interpreter": {
    "hash": "6d1d83bd288783166839eaf41cc899ee5b370f43f2d31bb90c4d7a970be842ab"
   }
  }
 },
 "nbformat": 4,
 "nbformat_minor": 2
}
