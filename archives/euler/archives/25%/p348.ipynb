{
 "cells": [
  {
   "cell_type": "markdown",
   "metadata": {},
   "source": [
    "# [Project Euler 348 - Sum of a square and a cube](https://projecteuler.net/problem=348)\n",
    "\n",
    "This bruteforce sucks"
   ]
  },
  {
   "cell_type": "code",
   "execution_count": 9,
   "metadata": {},
   "outputs": [],
   "source": [
    "def p348():\n",
    "    i, cnt, ans = 9, 0, 0\n",
    "    while cnt < 5:\n",
    "        ri = int(str(i)[::-1])\n",
    "        if i == ri:\n",
    "            ways = 0\n",
    "            for j in range(2, floor(i ^ (QQ(1/3))) + 1):\n",
    "                if is_square(i - j ^ 3) and i - j^3 > 1:\n",
    "                    ways += 1\n",
    "            if ways == 4:\n",
    "                cnt += 1\n",
    "                ans += i\n",
    "                print(i, cnt)\n",
    "        i += 1\n",
    "    return ans"
   ]
  },
  {
   "cell_type": "code",
   "execution_count": 10,
   "metadata": {},
   "outputs": [
    {
     "name": "stdout",
     "output_type": "stream",
     "text": [
      "5229225 1\n",
      "37088073 2\n",
      "56200265 3\n",
      "108909801 4\n",
      "796767697 5\n"
     ]
    },
    {
     "data": {
      "text/plain": [
       "1004195061"
      ]
     },
     "execution_count": 10,
     "metadata": {},
     "output_type": "execute_result"
    }
   ],
   "source": [
    "p348()"
   ]
  }
 ],
 "metadata": {
  "kernelspec": {
   "display_name": "Python 3",
   "language": "python",
   "name": "python3"
  },
  "language_info": {
   "codemirror_mode": {
    "name": "ipython",
    "version": 3
   },
   "file_extension": ".py",
   "mimetype": "text/x-python",
   "name": "python",
   "nbconvert_exporter": "python",
   "pygments_lexer": "ipython3",
   "version": "3.10.7 (main, Oct  1 2022, 04:31:04) [GCC 12.2.0]"
  },
  "orig_nbformat": 4,
  "vscode": {
   "interpreter": {
    "hash": "916dbcbb3f70747c44a77c7bcd40155683ae19c65e1c03b4aa3499c5328201f1"
   }
  }
 },
 "nbformat": 4,
 "nbformat_minor": 2
}
