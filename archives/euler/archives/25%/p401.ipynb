{
 "cells": [
  {
   "cell_type": "markdown",
   "metadata": {},
   "source": [
    "# [Project Euler 401 - Sum of squares of divisors](https://projecteuler.net/problem=401)\n",
    "\n",
    "Applying contribution-to-sum technique, the problem can be reducing to calculate: $$\\sum^{n}_{i = 1} \\left \\lfloor \\dfrac{n}{i} \\right \\rfloor i^2$$ for $n = 10^{15}$.\n",
    "\n",
    "A keystone observation to calculate this enormous number is that there are only $2\\sqrt{n}$ different values for $\\left \\lfloor \\dfrac{n}{i} \\right \\rfloor$ at maximum. By iterating through all these values efficiently, using prefix sum of squares to calculate the contribution of each segments yield the answer. \n",
    "\n",
    "[This blog](https://codeforces.com/blog/entry/53925#:~:text=According%20to%20Wikipedia%2C%20the%20M%C3%B6bius,any%20integer%20k%20%E2%89%A5%202.) provides an elegant proof for this, along with some marvellous mathematical stuffs."
   ]
  },
  {
   "cell_type": "code",
   "execution_count": 25,
   "metadata": {},
   "outputs": [],
   "source": [
    "R = IntegerModRing(10^9)"
   ]
  },
  {
   "cell_type": "code",
   "execution_count": 26,
   "metadata": {},
   "outputs": [],
   "source": [
    "def pref_sqr(x):\n",
    "    return x * (x + 1) * (2 * x + 1) // 6\n",
    "\n",
    "def sum_sqr(l, r):\n",
    "    return pref_sqr(r) - pref_sqr(l - 1)"
   ]
  },
  {
   "cell_type": "code",
   "execution_count": 27,
   "metadata": {},
   "outputs": [],
   "source": [
    "def p401(n):\n",
    "    ans = R(0)\n",
    "    i, la = 1, 0\n",
    "    while i <= n:\n",
    "        la = min(n // (n // i), n)\n",
    "        ans += (n // i) * sum_sqr(i, la)\n",
    "        i = la + 1\n",
    "    return ans"
   ]
  },
  {
   "cell_type": "code",
   "execution_count": 28,
   "metadata": {},
   "outputs": [
    {
     "data": {
      "text/plain": [
       "281632621"
      ]
     },
     "execution_count": 28,
     "metadata": {},
     "output_type": "execute_result"
    }
   ],
   "source": [
    "p401(10^15)"
   ]
  }
 ],
 "metadata": {
  "kernelspec": {
   "display_name": "Python 3.10.5 64-bit",
   "language": "python",
   "name": "python3"
  },
  "language_info": {
   "codemirror_mode": {
    "name": "ipython",
    "version": 3
   },
   "file_extension": ".py",
   "mimetype": "text/x-python",
   "name": "python",
   "nbconvert_exporter": "python",
   "pygments_lexer": "ipython3",
   "version": "3.10.5"
  },
  "orig_nbformat": 4,
  "vscode": {
   "interpreter": {
    "hash": "916dbcbb3f70747c44a77c7bcd40155683ae19c65e1c03b4aa3499c5328201f1"
   }
  }
 },
 "nbformat": 4,
 "nbformat_minor": 2
}
