{
 "cells": [
  {
   "cell_type": "markdown",
   "metadata": {},
   "source": [
    "# [Project Euler 231 - The prime factorisation of binomial coefficients](https://projecteuler.net/problem=231)\n",
    "\n",
    "This is not a hard problem, however there are plenty of optimizations needed for code to run faster. Yet I'm poor when it comes to optimizing Python code, sadly. If I implement this algorithm in C++, it may run less than 3s."
   ]
  },
  {
   "cell_type": "code",
   "execution_count": 52,
   "metadata": {},
   "outputs": [],
   "source": [
    "import copy"
   ]
  },
  {
   "cell_type": "code",
   "execution_count": 53,
   "metadata": {},
   "outputs": [],
   "source": [
    "def p231(n, m):\n",
    "    pf = [i for i in range(n + 1)]\n",
    "    for i in range(2, n + 1):\n",
    "        if pf[i] == i:\n",
    "            for j in range(i * i, n + 1, i):\n",
    "                pf[j] = i\n",
    "    f = {i : 0 for i in prime_range(n + 1)}\n",
    "    for i in range(1, n + 1):\n",
    "        tmp = copy.deepcopy(i)\n",
    "        while tmp > 1:\n",
    "            f[pf[tmp]] += 1\n",
    "            if i <= m:\n",
    "                f[pf[tmp]] -= 1\n",
    "            if i <= n - m:\n",
    "                f[pf[tmp]] -= 1\n",
    "            tmp //= pf[tmp]\n",
    "    return sum(k * v for k, v in f.items())"
   ]
  },
  {
   "cell_type": "code",
   "execution_count": 54,
   "metadata": {},
   "outputs": [
    {
     "data": {
      "text/plain": [
       "7526965179680"
      ]
     },
     "execution_count": 54,
     "metadata": {},
     "output_type": "execute_result"
    }
   ],
   "source": [
    "p231(20000000, 15000000)"
   ]
  }
 ],
 "metadata": {
  "kernelspec": {
   "display_name": "Python 3.10.5 64-bit",
   "language": "python",
   "name": "python3"
  },
  "language_info": {
   "codemirror_mode": {
    "name": "ipython",
    "version": 3
   },
   "file_extension": ".py",
   "mimetype": "text/x-python",
   "name": "python",
   "nbconvert_exporter": "python",
   "pygments_lexer": "ipython3",
   "version": "3.10.5"
  },
  "orig_nbformat": 4,
  "vscode": {
   "interpreter": {
    "hash": "916dbcbb3f70747c44a77c7bcd40155683ae19c65e1c03b4aa3499c5328201f1"
   }
  }
 },
 "nbformat": 4,
 "nbformat_minor": 2
}
