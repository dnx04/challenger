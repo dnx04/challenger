{
 "cells": [
  {
   "cell_type": "markdown",
   "metadata": {},
   "source": [
    "# [Project Euler 501 - Eight Divisors](https://projecteuler.net/problem=501)\n",
    "\n",
    "> Let $f(n)$ be the count of number not exceeding $n$ with exactly $8$ divisors. Find $f(10^{12})$\n",
    "\n",
    "There are only 3 cases where $n$ can have exacly 8 divisors:\n",
    "- $n = p^7$\n",
    "- $n = p^3q$, where $p, q$ are distinct primes.\n",
    "- $n = pqr$, where $p, q, r$ are distinct primes, and $p < q < r$.\n",
    "\n",
    "The first 2 cases can be easily solved in reasonable time with $n = 10^{12}$ because $p$ is sufficiently small for us\n",
    "to bruteforce. \n",
    "\n",
    "The last case is a bottleneck, one have to loop through $p$, then all $q > p$, and then the number of primes $r$ satisfy the last case is $\\pi(\\frac{n}{pq}) - \\pi(q)$, where $\\pi(x)$ is the number of primes up to $x$.\n",
    "\n",
    "In order to solve this case, one needs an efficient prime-counting algorithm, e.g. [Meissel-Lehmer](https://en.wikipedia.org/wiki/Meissel%E2%80%93Lehmer_algorithm). This function is implemented in SageMath `prime_pi()`, and it helps simplified the implementation a lot. \n",
    "\n",
    "Be aware of the condition of terminating loops to prune out unnecessary computations, otherwise the solution will take up much more time even if your idea is correct."
   ]
  },
  {
   "cell_type": "code",
   "execution_count": 51,
   "metadata": {},
   "outputs": [],
   "source": [
    "def p501(n):\n",
    "    P = Primes()\n",
    "    ans = 0\n",
    "    # i = p^7\n",
    "    for i in P:\n",
    "        if i ** 7 <= n:\n",
    "            ans += 1\n",
    "        else:\n",
    "            break\n",
    "    # i = p^3 * q\n",
    "    for i in P:\n",
    "        if i ^ 3 <= n:\n",
    "            ans += prime_pi(n // (i ^ 3))\n",
    "            if n // (i ^ 3) >= i:\n",
    "                ans -= 1\n",
    "        else:\n",
    "            break\n",
    "    # i = pqr\n",
    "    i, j = 0, 0\n",
    "    while True:\n",
    "        p = P.unrank(i)\n",
    "        if p^3 > n:\n",
    "            break\n",
    "        j = i + 1\n",
    "        while True:\n",
    "            q = P.unrank(j)\n",
    "            if n // (p * q) <= q:\n",
    "                break\n",
    "            ans += prime_pi(n // (p * q)) - prime_pi(q)\n",
    "            j += 1\n",
    "        i += 1\n",
    "    return ans"
   ]
  },
  {
   "cell_type": "code",
   "execution_count": 52,
   "metadata": {},
   "outputs": [
    {
     "data": {
      "text/plain": [
       "197912312715"
      ]
     },
     "execution_count": 52,
     "metadata": {},
     "output_type": "execute_result"
    }
   ],
   "source": [
    "p501(10^12)"
   ]
  }
 ],
 "metadata": {
  "kernelspec": {
   "display_name": "Python 3.10.5 ('.venv': venv)",
   "language": "python",
   "name": "python3"
  },
  "language_info": {
   "codemirror_mode": {
    "name": "ipython",
    "version": 3
   },
   "file_extension": ".py",
   "mimetype": "text/x-python",
   "name": "python",
   "nbconvert_exporter": "python",
   "pygments_lexer": "ipython3",
   "version": "3.10.5"
  },
  "orig_nbformat": 4,
  "vscode": {
   "interpreter": {
    "hash": "5c785e0c636f82b564b926319a8b75c5ee37c7def92475338cd5073eabacb7b2"
   }
  }
 },
 "nbformat": 4,
 "nbformat_minor": 2
}
