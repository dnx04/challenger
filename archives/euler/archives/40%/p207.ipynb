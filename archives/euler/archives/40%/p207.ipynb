{
 "cells": [
  {
   "cell_type": "markdown",
   "metadata": {},
   "source": [
    "# [Project Euler 207 - Integer partition functions](https://projecteuler.net/problem=207)\n",
    "\n",
    "There are not much to do with this problem, despite being rated at 40%. We can easily see that all perfect $k$ satisfies $k = 2^t(2^t - 1)$, and because the limit is small, we can iterate through all integer partition, pick all perfect ones until we get the ratio small enough."
   ]
  },
  {
   "cell_type": "code",
   "execution_count": 9,
   "metadata": {},
   "outputs": [],
   "source": [
    "def p207(ratio):\n",
    "    power_of_2 = {2^i for i in range(100)}\n",
    "    n = 2\n",
    "    perfect, tot = 0, 0\n",
    "    while True:\n",
    "        if n in power_of_2:\n",
    "            perfect += 1\n",
    "        tot += 1\n",
    "        if QQ(perfect / tot) < ratio:\n",
    "            return n * (n - 1)\n",
    "        n += 1"
   ]
  },
  {
   "cell_type": "code",
   "execution_count": 10,
   "metadata": {},
   "outputs": [
    {
     "data": {
      "text/plain": [
       "44043947822"
      ]
     },
     "execution_count": 10,
     "metadata": {},
     "output_type": "execute_result"
    }
   ],
   "source": [
    "p207(QQ(1/12345))"
   ]
  }
 ],
 "metadata": {
  "kernelspec": {
   "display_name": "Python 3.10.5 64-bit",
   "language": "python",
   "name": "python3"
  },
  "language_info": {
   "codemirror_mode": {
    "name": "ipython",
    "version": 3
   },
   "file_extension": ".py",
   "mimetype": "text/x-python",
   "name": "python",
   "nbconvert_exporter": "python",
   "pygments_lexer": "ipython3",
   "version": "3.10.5"
  },
  "orig_nbformat": 4,
  "vscode": {
   "interpreter": {
    "hash": "916dbcbb3f70747c44a77c7bcd40155683ae19c65e1c03b4aa3499c5328201f1"
   }
  }
 },
 "nbformat": 4,
 "nbformat_minor": 2
}
