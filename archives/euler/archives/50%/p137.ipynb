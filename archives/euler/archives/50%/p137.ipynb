{
 "cells": [
  {
   "cell_type": "markdown",
   "metadata": {},
   "source": [
    "# [Project Euler 137 - Fibonacci Golden Nuggets](https://projecteuler.net/problem=137)\n",
    "\n",
    "The generating function of Fibonacci sequence is $g(x) = \\frac{x}{1 - x - x^2}$.\n",
    "\n",
    "Solve the equation $\\frac{x}{1 - x - x^2} = 74049690$ (the 10th nugget) result in $x = \\frac{6765}{10946}$.\n",
    "\n",
    "We have $F(20) = 6765, F(21) = 10946$, so we may guess that all $x$ satisfies $A_F(x)$ is a golden nugget has the form of $\\frac{F(2k)}{F(2k + 1)}$. It turns out to be the closed-form of $x$ to generate all golden nuggets. \n",
    "\n",
    "Also, it turns out that $74049690 = F(20) \\times F(21)$, and the golden nuggets have the form of $F(2k) \\times F(2k + 1)$. This turn out to be the [A081818](https://oeis.org/A081018) sequence in OEIS.\n",
    "\n",
    "Follow-up: the closed form of solution allows us to find the $n$-th Fibonacci nuggets for huge $n$ very fast. This is the key point to get Accepted on this problem on HackerRank."
   ]
  },
  {
   "cell_type": "code",
   "execution_count": 1,
   "metadata": {},
   "outputs": [],
   "source": [
    "def p137(n):\n",
    "    return fibonacci(2 * n) * fibonacci(2 * n + 1)"
   ]
  },
  {
   "cell_type": "code",
   "execution_count": 2,
   "metadata": {},
   "outputs": [
    {
     "data": {
      "text/plain": [
       "1120149658760"
      ]
     },
     "execution_count": 2,
     "metadata": {},
     "output_type": "execute_result"
    }
   ],
   "source": [
    "p137(15)"
   ]
  }
 ],
 "metadata": {
  "kernelspec": {
   "display_name": "Python 3.10.5 64-bit",
   "language": "python",
   "name": "python3"
  },
  "language_info": {
   "codemirror_mode": {
    "name": "ipython",
    "version": 3
   },
   "file_extension": ".py",
   "mimetype": "text/x-python",
   "name": "python",
   "nbconvert_exporter": "python",
   "pygments_lexer": "ipython3",
   "version": "3.10.5"
  },
  "orig_nbformat": 4,
  "vscode": {
   "interpreter": {
    "hash": "916dbcbb3f70747c44a77c7bcd40155683ae19c65e1c03b4aa3499c5328201f1"
   }
  }
 },
 "nbformat": 4,
 "nbformat_minor": 2
}
