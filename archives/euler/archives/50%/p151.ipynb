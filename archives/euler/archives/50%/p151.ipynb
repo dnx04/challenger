{
 "cells": [
  {
   "cell_type": "markdown",
   "metadata": {},
   "source": [
    "# [Project Euler 151 - Paper sheets of standard sizes: an expected-value problem](https://projecteuler.net/problem=151)\n",
    "\n",
    "I had a difficulty understanding what does 'finds a single sheet of paper in the envelope' means. There exists cases where only one paper remain in the envelope, be it the arbitrary size. The goal is to calculate the expected number time this event happens. Actually, the trickiest part of this problem is modeling the base case.\n",
    "\n",
    "Let $E(a)$ be the expected value to find a single piece of paper in the envelope, where $a$ is an array contains the count of each paper's size, from A1 to A5. We need the answer for $E([1, 0, 0, 0, 0])$.\n",
    "\n",
    "Each sheet size is picked and the function calls itself recursively.\n",
    "\n",
    "I also discovered that Python `@cache` only works with hashable parameters, which means list is not usable as parameter when invoking `@cache`."
   ]
  },
  {
   "cell_type": "code",
   "execution_count": 46,
   "metadata": {},
   "outputs": [],
   "source": [
    "from functools import cache"
   ]
  },
  {
   "cell_type": "code",
   "execution_count": 47,
   "metadata": {},
   "outputs": [],
   "source": [
    "@cache\n",
    "def rec(a):\n",
    "    res = 0\n",
    "    if all([sz == 0 for sz in a]):\n",
    "        return 0\n",
    "    s = sum(a)\n",
    "    res = 0\n",
    "    if s == 1:\n",
    "        if a[-1] == 1:\n",
    "            return res\n",
    "        if a[0] == 0:\n",
    "            res = 1\n",
    "    for i in range(len(a)):\n",
    "        nxt = [val for val in a]\n",
    "        if nxt[i] > 0:\n",
    "            nxt[i] -= 1\n",
    "            for j in range(i + 1, len(a)):\n",
    "                nxt[j] += 1\n",
    "            res += (a[i] / s) * rec(tuple(nxt))\n",
    "    return res\n",
    "\n",
    "def p151():\n",
    "    return round(rec((1, 0, 0, 0, 0)), 6)\n"
   ]
  },
  {
   "cell_type": "code",
   "execution_count": 48,
   "metadata": {},
   "outputs": [
    {
     "data": {
      "text/plain": [
       "0.464399"
      ]
     },
     "execution_count": 48,
     "metadata": {},
     "output_type": "execute_result"
    }
   ],
   "source": [
    "p151()"
   ]
  }
 ],
 "metadata": {
  "kernelspec": {
   "display_name": "Python 3.10.5 ('.venv': venv)",
   "language": "python",
   "name": "python3"
  },
  "language_info": {
   "codemirror_mode": {
    "name": "ipython",
    "version": 3
   },
   "file_extension": ".py",
   "mimetype": "text/x-python",
   "name": "python",
   "nbconvert_exporter": "python",
   "pygments_lexer": "ipython3",
   "version": "3.10.5"
  },
  "orig_nbformat": 4,
  "vscode": {
   "interpreter": {
    "hash": "6d1d83bd288783166839eaf41cc899ee5b370f43f2d31bb90c4d7a970be842ab"
   }
  }
 },
 "nbformat": 4,
 "nbformat_minor": 2
}
