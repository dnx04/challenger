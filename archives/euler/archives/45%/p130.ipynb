{
 "cells": [
  {
   "cell_type": "markdown",
   "metadata": {},
   "source": [
    "# [Project Euler 130 - Composites with prime repunit property](https://projecteuler.net/problem=130)\n",
    "\n",
    "Take the refined thing from Problem 129 and we are done pretty easily.\n",
    "\n",
    "This problem is mainly an entertainment for ones who tackled Problem 129 perfectly."
   ]
  },
  {
   "cell_type": "code",
   "execution_count": 17,
   "metadata": {},
   "outputs": [],
   "source": [
    "def A(n):\n",
    "    if gcd(n, 10) != 1:\n",
    "        return 0\n",
    "    k, r = 1, 1\n",
    "    while r != 0:\n",
    "        r = (r * 10 + 1) % n\n",
    "        k += 1\n",
    "    return k"
   ]
  },
  {
   "cell_type": "code",
   "execution_count": 18,
   "metadata": {},
   "outputs": [],
   "source": [
    "def p130(n):\n",
    "    i, cnt, ans = 91, 0, 0\n",
    "    while cnt < n:\n",
    "        if not is_prime(i) and i % 5 != 0:\n",
    "            if (i - 1) % A(i) == 0:\n",
    "                ans += i\n",
    "                cnt += 1\n",
    "        i += 2\n",
    "    return ans"
   ]
  },
  {
   "cell_type": "code",
   "execution_count": 19,
   "metadata": {},
   "outputs": [
    {
     "data": {
      "text/plain": [
       "149253"
      ]
     },
     "execution_count": 19,
     "metadata": {},
     "output_type": "execute_result"
    }
   ],
   "source": [
    "p130(25)"
   ]
  }
 ],
 "metadata": {
  "kernelspec": {
   "display_name": "SageMath 9.5",
   "language": "sage",
   "name": "sagemath"
  },
  "language_info": {
   "codemirror_mode": {
    "name": "ipython",
    "version": 3
   },
   "file_extension": ".py",
   "mimetype": "text/x-python",
   "name": "python",
   "nbconvert_exporter": "python",
   "pygments_lexer": "ipython3",
   "version": "3.10.5"
  },
  "orig_nbformat": 4,
  "vscode": {
   "interpreter": {
    "hash": "916dbcbb3f70747c44a77c7bcd40155683ae19c65e1c03b4aa3499c5328201f1"
   }
  }
 },
 "nbformat": 4,
 "nbformat_minor": 2
}
