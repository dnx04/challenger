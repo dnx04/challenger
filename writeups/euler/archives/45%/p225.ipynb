{
 "cells": [
  {
   "cell_type": "markdown",
   "metadata": {},
   "source": [
    "# [Project Euler 225 - Tribonacci non-divisors](https://projecteuler.net/problem=225)\n",
    "\n",
    "This problem asks for the 124th terms in [OEIS A215782](https://oeis.org/A215782/b215782.txt). Bruteforcing the first few odd numbers satisfy the condition, then OEIS. There is no shame in using it."
   ]
  },
  {
   "cell_type": "code",
   "execution_count": 25,
   "metadata": {
    "vscode": {
     "languageId": "python"
    }
   },
   "outputs": [],
   "source": [
    "def p225(nth):\n",
    "    chk = [True for i in range(1200)]\n",
    "    chk[0] = False\n",
    "    for i in range(1, len(chk)):\n",
    "        T = [1, 1, 1]\n",
    "        non_div = True\n",
    "        while len(T) <= 10^5:\n",
    "            T.append((T[-1] + T[-2] + T[-3]) % (2 * i + 1))\n",
    "            if T[-1] == 0:\n",
    "                non_div = False\n",
    "                break\n",
    "        if not non_div:\n",
    "            chk[i] = False\n",
    "    cnt = 0\n",
    "    for i in range(len(chk)):\n",
    "        if chk[i]:\n",
    "            cnt += 1\n",
    "        if cnt == nth:\n",
    "            return 2 * i + 1"
   ]
  },
  {
   "cell_type": "code",
   "execution_count": 26,
   "metadata": {
    "vscode": {
     "languageId": "python"
    }
   },
   "outputs": [
    {
     "data": {
      "text/plain": [
       "2009"
      ]
     },
     "execution_count": 26,
     "metadata": {},
     "output_type": "execute_result"
    }
   ],
   "source": [
    "p225(124)"
   ]
  }
 ],
 "metadata": {
  "kernelspec": {
   "display_name": "SageMath 9.5",
   "language": "sage",
   "name": "sagemath"
  },
  "language_info": {
   "codemirror_mode": {
    "name": "ipython",
    "version": 3
   },
   "file_extension": ".py",
   "mimetype": "text/x-python",
   "name": "sage",
   "nbconvert_exporter": "python",
   "pygments_lexer": "ipython3",
   "version": "3.10.5"
  },
  "orig_nbformat": 4,
  "vscode": {
   "interpreter": {
    "hash": "916dbcbb3f70747c44a77c7bcd40155683ae19c65e1c03b4aa3499c5328201f1"
   }
  }
 },
 "nbformat": 4,
 "nbformat_minor": 2
}
