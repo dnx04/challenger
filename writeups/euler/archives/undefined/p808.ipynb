{
 "cells": [
  {
   "cell_type": "markdown",
   "metadata": {},
   "source": [
    "# [Project Euler 808 - Reversable prime squares](https://projecteuler.net/problem=808)\n",
    "\n",
    "Bruteforcing is enough."
   ]
  },
  {
   "cell_type": "code",
   "execution_count": 3,
   "metadata": {
    "vscode": {
     "languageId": "python"
    }
   },
   "outputs": [],
   "source": [
    "from math import isqrt\n",
    "\n",
    "\n",
    "def p808(threshold):\n",
    "    P = Primes()\n",
    "    cnt, res = 0, 0\n",
    "    for p in P:\n",
    "        sqrp = str(p * p)\n",
    "        if sqrp != sqrp[::-1] and is_square(int(sqrp[::-1])) and isqrt(int(sqrp[::-1])) in P:\n",
    "            cnt += 1\n",
    "            res += p * p\n",
    "        if cnt == threshold:\n",
    "            return res"
   ]
  },
  {
   "cell_type": "code",
   "execution_count": 4,
   "metadata": {
    "vscode": {
     "languageId": "python"
    }
   },
   "outputs": [
    {
     "data": {
      "text/plain": [
       "3807504276997394"
      ]
     },
     "execution_count": 4,
     "metadata": {},
     "output_type": "execute_result"
    }
   ],
   "source": [
    "p808(50)"
   ]
  }
 ],
 "metadata": {
  "kernelspec": {
   "display_name": "SageMath 9.5",
   "language": "sage",
   "name": "sagemath"
  },
  "language_info": {
   "codemirror_mode": {
    "name": "ipython",
    "version": 3
   },
   "file_extension": ".py",
   "mimetype": "text/x-python",
   "name": "sage",
   "nbconvert_exporter": "python",
   "pygments_lexer": "ipython3",
   "version": "3.9.13 (main, Aug 25 2022, 23:26:10) \n[GCC 11.2.0]"
  },
  "orig_nbformat": 4,
  "vscode": {
   "interpreter": {
    "hash": "9481974d2feb13e76a58422056d93d9a874fddf46cf7e45ff0d0e073ca69ccb3"
   }
  }
 },
 "nbformat": 4,
 "nbformat_minor": 2
}
