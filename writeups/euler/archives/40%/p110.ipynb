{
 "cells": [
  {
   "cell_type": "markdown",
   "metadata": {},
   "source": [
    "# [Project Euler 110 - Diophantine reciprocals II](https://projecteuler.net/problem=110)\n",
    "\n",
    "Recursive constructive algorithm in action!\n",
    "\n",
    "This problem enlightened my way of applying recursive ideas in greedy problems. $n$ can be built greedily, prioritize exponents for small base. \n",
    "\n"
   ]
  },
  {
   "cell_type": "code",
   "execution_count": 23,
   "metadata": {},
   "outputs": [],
   "source": [
    "MAX = 10^18\n",
    "limit = 0\n",
    "\n",
    "def rec(num = 1, nth = 0, numdivsqr = 1, maxprev = 100):\n",
    "    if numdivsqr >= LIMIT:\n",
    "        return num\n",
    "    res = MAX\n",
    "    cur = num\n",
    "    for i in range(1, maxprev + 1):\n",
    "        if cur * nth_prime(nth + 1) < res:\n",
    "            cur *= nth_prime(nth + 1)\n",
    "            res = min(res, rec(cur, nth + 1, numdivsqr * (2 * i + 1), min(maxprev, i)))\n",
    "        else:\n",
    "            break\n",
    "    return res\n",
    "\n",
    "\n",
    "def p110(threshold):\n",
    "    limit = 2 * threshold\n",
    "    return rec()"
   ]
  },
  {
   "cell_type": "code",
   "execution_count": 24,
   "metadata": {},
   "outputs": [
    {
     "data": {
      "text/plain": [
       "9350130049860600"
      ]
     },
     "execution_count": 24,
     "metadata": {},
     "output_type": "execute_result"
    }
   ],
   "source": [
    "p110(4 * 10^6)"
   ]
  }
 ],
 "metadata": {
  "kernelspec": {
   "display_name": "Python 3.10.5 64-bit",
   "language": "python",
   "name": "python3"
  },
  "language_info": {
   "codemirror_mode": {
    "name": "ipython",
    "version": 3
   },
   "file_extension": ".py",
   "mimetype": "text/x-python",
   "name": "python",
   "nbconvert_exporter": "python",
   "pygments_lexer": "ipython3",
   "version": "3.10.5"
  },
  "orig_nbformat": 4,
  "vscode": {
   "interpreter": {
    "hash": "916dbcbb3f70747c44a77c7bcd40155683ae19c65e1c03b4aa3499c5328201f1"
   }
  }
 },
 "nbformat": 4,
 "nbformat_minor": 2
}
