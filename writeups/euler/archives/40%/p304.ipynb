{
 "cells": [
  {
   "cell_type": "markdown",
   "metadata": {},
   "source": [
    "# [Project Euler 304 - Primonacci](https://projecteuler.net/problem=304)\n",
    "\n",
    "SageMath has no builtin method for calculating $F(n) \\bmod m$ with huge $n$, so I code it myself using matrix exponentiation. Also the `next_prime()` function of SageMath is really cool."
   ]
  },
  {
   "cell_type": "code",
   "execution_count": 64,
   "metadata": {
    "vscode": {
     "languageId": "python"
    }
   },
   "outputs": [],
   "source": [
    "MOD = 1234567891011\n",
    "R = IntegerModRing(MOD)\n",
    "\n",
    "mat = Matrix([[R(1),R(1)],[R(1),R(0)]])\n",
    "\n",
    "def fib(n):\n",
    "    return (mat^(n - 1))[0][0]"
   ]
  },
  {
   "cell_type": "code",
   "execution_count": 65,
   "metadata": {
    "vscode": {
     "languageId": "python"
    }
   },
   "outputs": [],
   "source": [
    "def p304(n):\n",
    "    ans = 0\n",
    "    a = [10^14]\n",
    "    while len(a) < n + 1:\n",
    "        a.append(next_prime(a[-1]))\n",
    "    return sum([fib(a[i]) for i in range(1, len(a))]) % MOD"
   ]
  },
  {
   "cell_type": "code",
   "execution_count": 66,
   "metadata": {
    "vscode": {
     "languageId": "python"
    }
   },
   "outputs": [
    {
     "data": {
      "text/plain": [
       "283988410192"
      ]
     },
     "execution_count": 66,
     "metadata": {},
     "output_type": "execute_result"
    }
   ],
   "source": [
    "p304(10^5)"
   ]
  }
 ],
 "metadata": {
  "kernelspec": {
   "display_name": "SageMath 9.5",
   "language": "sage",
   "name": "sagemath"
  },
  "language_info": {
   "codemirror_mode": {
    "name": "ipython",
    "version": 3
   },
   "file_extension": ".py",
   "mimetype": "text/x-python",
   "name": "sage",
   "nbconvert_exporter": "python",
   "pygments_lexer": "ipython3",
   "version": "3.10.5"
  },
  "orig_nbformat": 4
 },
 "nbformat": 4,
 "nbformat_minor": 2
}
