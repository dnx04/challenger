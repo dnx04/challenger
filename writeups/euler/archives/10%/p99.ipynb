{
 "cells": [
  {
   "cell_type": "markdown",
   "metadata": {},
   "source": [
    "# [Project Euler 99 - Largest exponential](https://projecteuler.net/problem=99)\n",
    "\n",
    "Convert all bases to base 10 and we are done."
   ]
  },
  {
   "cell_type": "code",
   "execution_count": 5,
   "metadata": {
    "vscode": {
     "languageId": "python"
    }
   },
   "outputs": [],
   "source": [
    "def p99():\n",
    "    with open('data/p099_base_exp.txt') as f:\n",
    "        lines = f.readlines()\n",
    "        lines = [line.strip().split(',') for line in lines]\n",
    "        mx, idx = 0.0, 0\n",
    "        for line in lines:\n",
    "            a, b = float(line[0]), float(line[1])\n",
    "            if b * log(a) > mx:\n",
    "                mx, idx = b * log(a), lines.index(line)\n",
    "        return idx + 1\n"
   ]
  },
  {
   "cell_type": "code",
   "execution_count": 6,
   "metadata": {
    "vscode": {
     "languageId": "python"
    }
   },
   "outputs": [
    {
     "data": {
      "text/plain": [
       "709"
      ]
     },
     "execution_count": 6,
     "metadata": {},
     "output_type": "execute_result"
    }
   ],
   "source": [
    "p99()"
   ]
  }
 ],
 "metadata": {
  "kernelspec": {
   "display_name": "SageMath 9.5",
   "language": "sage",
   "name": "sagemath"
  },
  "language_info": {
   "codemirror_mode": {
    "name": "ipython",
    "version": 3
   },
   "file_extension": ".py",
   "mimetype": "text/x-python",
   "name": "sage",
   "nbconvert_exporter": "python",
   "pygments_lexer": "ipython3",
   "version": "3.10.5"
  },
  "orig_nbformat": 4,
  "vscode": {
   "interpreter": {
    "hash": "5c785e0c636f82b564b926319a8b75c5ee37c7def92475338cd5073eabacb7b2"
   }
  }
 },
 "nbformat": 4,
 "nbformat_minor": 2
}
