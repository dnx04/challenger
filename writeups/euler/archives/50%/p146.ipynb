{
 "cells": [
  {
   "cell_type": "markdown",
   "metadata": {},
   "source": [
    "# [Project Euler 146 - Investigating a Prime Pattern](https://projecteuler.net/problem=146)\n",
    "\n",
    "> If you think it can pass in 1 minute, then all in for it.\n",
    "\n",
    "The prime utilities of SageMath is terrific. I believe there are much more clever implementations, but anyway, I have one minute."
   ]
  },
  {
   "cell_type": "code",
   "execution_count": 7,
   "metadata": {},
   "outputs": [],
   "source": [
    "def p146(n):\n",
    "    step = [1, 3, 7, 9, 13, 27]\n",
    "    ans = 0\n",
    "    for i in range(10, n, 10):\n",
    "        if all(is_prime(i^2 + p) for p in step):\n",
    "            if prime_pi(i^2 + 1) + 5 == prime_pi(i^2 + 27):\n",
    "                ans += i\n",
    "    return ans"
   ]
  },
  {
   "cell_type": "code",
   "execution_count": 8,
   "metadata": {},
   "outputs": [
    {
     "data": {
      "text/plain": [
       "676333270"
      ]
     },
     "execution_count": 8,
     "metadata": {},
     "output_type": "execute_result"
    }
   ],
   "source": [
    "p146(15 * 10^7)"
   ]
  }
 ],
 "metadata": {
  "kernelspec": {
   "display_name": "SageMath 9.5",
   "language": "sage",
   "name": "sagemath"
  },
  "language_info": {
   "codemirror_mode": {
    "name": "ipython",
    "version": 3
   },
   "file_extension": ".py",
   "mimetype": "text/x-python",
   "name": "python",
   "nbconvert_exporter": "python",
   "pygments_lexer": "ipython3",
   "version": "3.10.5"
  },
  "orig_nbformat": 4
 },
 "nbformat": 4,
 "nbformat_minor": 2
}
