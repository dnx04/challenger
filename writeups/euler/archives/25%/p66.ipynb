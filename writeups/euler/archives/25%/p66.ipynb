{
 "cells": [
  {
   "cell_type": "markdown",
   "metadata": {},
   "source": [
    "# [Project Euler 66 - Diophantine Equation](https://projecteuler.net/problem=66)\n",
    "\n",
    "This is a well-known problem about [finding the smallest solution of a Pell equation](https://en.wikipedia.org/wiki/Pell%27s_equation#:~:text=solving%20Pell's%20equation%20and%20minimizing,to%20Pell's%20equation%20is%20found.)."
   ]
  },
  {
   "cell_type": "code",
   "execution_count": 19,
   "metadata": {},
   "outputs": [],
   "source": [
    "def p66(threshold):\n",
    "    max_x, max_d = 0, 0\n",
    "    for d in range(2, threshold + 1):\n",
    "        if is_square(d):\n",
    "            continue\n",
    "        sqrtd = continued_fraction(sqrt(d))\n",
    "        i = 1\n",
    "        while True:\n",
    "            x, y = sqrtd.convergent(i).numer(), sqrtd.convergent(i).denom()\n",
    "            if x^2 - d * y^2 == 1:\n",
    "                if max_x < x:\n",
    "                    max_x = x\n",
    "                    max_d = d\n",
    "                break\n",
    "            i += 1\n",
    "    return max_d"
   ]
  },
  {
   "cell_type": "code",
   "execution_count": 20,
   "metadata": {},
   "outputs": [
    {
     "data": {
      "text/plain": [
       "661"
      ]
     },
     "execution_count": 20,
     "metadata": {},
     "output_type": "execute_result"
    }
   ],
   "source": [
    "p66(1000)"
   ]
  }
 ],
 "metadata": {
  "kernelspec": {
   "display_name": "SageMath 9.5",
   "language": "sage",
   "name": "sagemath"
  },
  "language_info": {
   "codemirror_mode": {
    "name": "ipython",
    "version": 3
   },
   "file_extension": ".py",
   "mimetype": "text/x-python",
   "name": "python",
   "nbconvert_exporter": "python",
   "pygments_lexer": "ipython3",
   "version": "3.10.5"
  },
  "orig_nbformat": 4
 },
 "nbformat": 4,
 "nbformat_minor": 2
}
