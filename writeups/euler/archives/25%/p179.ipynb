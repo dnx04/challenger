{
 "cells": [
  {
   "cell_type": "markdown",
   "metadata": {},
   "source": [
    "# [Project Euler 179 - Consecutive positive divisors](https://projecteuler.net/problem=179)"
   ]
  },
  {
   "cell_type": "code",
   "execution_count": 1,
   "metadata": {
    "vscode": {
     "languageId": "python"
    }
   },
   "outputs": [],
   "source": [
    "def p179(n):\n",
    "    ans = 0\n",
    "    for i in range(1, n):\n",
    "        ans += number_of_divisors(i) == number_of_divisors(i + 1)\n",
    "    return ans"
   ]
  },
  {
   "cell_type": "code",
   "execution_count": 2,
   "metadata": {
    "vscode": {
     "languageId": "python"
    }
   },
   "outputs": [
    {
     "ename": "KeyboardInterrupt",
     "evalue": "",
     "output_type": "error",
     "traceback": [
      "\u001b[0;31m---------------------------------------------------------------------------\u001b[0m",
      "\u001b[0;31mKeyboardInterrupt\u001b[0m                         Traceback (most recent call last)",
      "Cell \u001b[0;32mIn [2], line 1\u001b[0m\n\u001b[0;32m----> 1\u001b[0m p179(Integer(\u001b[39m10\u001b[39;49m)\u001b[39m*\u001b[39;49m\u001b[39m*\u001b[39;49mInteger(\u001b[39m7\u001b[39;49m))\n",
      "Cell \u001b[0;32mIn [1], line 4\u001b[0m, in \u001b[0;36mp179\u001b[0;34m(n)\u001b[0m\n\u001b[1;32m      2\u001b[0m ans \u001b[39m=\u001b[39m Integer(\u001b[39m0\u001b[39m)\n\u001b[1;32m      3\u001b[0m \u001b[39mfor\u001b[39;00m i \u001b[39min\u001b[39;00m \u001b[39mrange\u001b[39m(Integer(\u001b[39m1\u001b[39m), n):\n\u001b[0;32m----> 4\u001b[0m     ans \u001b[39m+\u001b[39m\u001b[39m=\u001b[39m number_of_divisors(i) \u001b[39m==\u001b[39m number_of_divisors(i \u001b[39m+\u001b[39m Integer(\u001b[39m1\u001b[39m))\n\u001b[1;32m      5\u001b[0m \u001b[39mreturn\u001b[39;00m ans\n",
      "File \u001b[0;32m/usr/lib/python3/dist-packages/sage/arith/misc.py:4497\u001b[0m, in \u001b[0;36mnumber_of_divisors\u001b[0;34m(n)\u001b[0m\n\u001b[1;32m   4469\u001b[0m \u001b[39m\"\"\"\u001b[39;00m\n\u001b[1;32m   4470\u001b[0m \u001b[39mReturn the number of divisors of the integer n.\u001b[39;00m\n\u001b[1;32m   4471\u001b[0m \n\u001b[0;32m   (...)\u001b[0m\n\u001b[1;32m   4494\u001b[0m \u001b[39m    9\u001b[39;00m\n\u001b[1;32m   4495\u001b[0m \u001b[39m\"\"\"\u001b[39;00m\n\u001b[1;32m   4496\u001b[0m m \u001b[39m=\u001b[39m ZZ(n)\n\u001b[0;32m-> 4497\u001b[0m \u001b[39mif\u001b[39;00m m\u001b[39m.\u001b[39;49mis_zero():\n\u001b[1;32m   4498\u001b[0m     \u001b[39mraise\u001b[39;00m \u001b[39mValueError\u001b[39;00m(\u001b[39m\"\u001b[39m\u001b[39minput must be nonzero\u001b[39m\u001b[39m\"\u001b[39m)\n\u001b[1;32m   4499\u001b[0m \u001b[39mfrom\u001b[39;00m \u001b[39msage\u001b[39;00m\u001b[39m.\u001b[39;00m\u001b[39mlibs\u001b[39;00m\u001b[39m.\u001b[39;00m\u001b[39mpari\u001b[39;00m\u001b[39m.\u001b[39;00m\u001b[39mall\u001b[39;00m \u001b[39mimport\u001b[39;00m pari\n",
      "File \u001b[0;32msrc/cysignals/signals.pyx:310\u001b[0m, in \u001b[0;36mcysignals.signals.python_check_interrupt\u001b[0;34m()\u001b[0m\n",
      "\u001b[0;31mKeyboardInterrupt\u001b[0m: "
     ]
    }
   ],
   "source": [
    "p179(10^7)"
   ]
  }
 ],
 "metadata": {
  "kernelspec": {
   "display_name": "SageMath 9.5",
   "language": "sage",
   "name": "sagemath"
  },
  "language_info": {
   "codemirror_mode": {
    "name": "ipython",
    "version": 3
   },
   "file_extension": ".py",
   "mimetype": "text/x-python",
   "name": "sage",
   "nbconvert_exporter": "python",
   "pygments_lexer": "ipython3",
   "version": "3.10.7"
  },
  "orig_nbformat": 4
 },
 "nbformat": 4,
 "nbformat_minor": 2
}
