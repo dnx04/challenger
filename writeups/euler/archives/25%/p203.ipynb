{
 "cells": [
  {
   "cell_type": "markdown",
   "id": "3770450f",
   "metadata": {},
   "source": [
    "# Project Euler - 203\n",
    "\n",
    "Bruteforcing through all combinations is enough."
   ]
  },
  {
   "cell_type": "code",
   "execution_count": 1,
   "id": "a870d9b6",
   "metadata": {
    "vscode": {
     "languageId": "python"
    }
   },
   "outputs": [],
   "source": [
    "def p203(x):\n",
    "    s = set()\n",
    "    for n in range(x):\n",
    "        for k in range(n // 2 + 1):\n",
    "            nCk = binomial(n, k)\n",
    "            if squarefree_part(nCk) == nCk:\n",
    "                s.add(nCk)\n",
    "    return sum(s)"
   ]
  },
  {
   "cell_type": "markdown",
   "id": "f06ed38e",
   "metadata": {},
   "source": [
    "Let's get the answer!"
   ]
  },
  {
   "cell_type": "code",
   "execution_count": 2,
   "id": "e439d41f",
   "metadata": {
    "vscode": {
     "languageId": "python"
    }
   },
   "outputs": [
    {
     "data": {
      "text/plain": [
       "34029210557338"
      ]
     },
     "execution_count": 2,
     "metadata": {},
     "output_type": "execute_result"
    }
   ],
   "source": [
    "p203(51)"
   ]
  }
 ],
 "metadata": {
  "kernelspec": {
   "display_name": "SageMath 9.5",
   "language": "sage",
   "name": "sagemath"
  },
  "language_info": {
   "codemirror_mode": {
    "name": "ipython",
    "version": 3
   },
   "file_extension": ".py",
   "mimetype": "text/x-python",
   "name": "sage",
   "nbconvert_exporter": "python",
   "pygments_lexer": "ipython3",
   "version": "3.10.7 (main, Oct  1 2022, 04:31:04) [GCC 12.2.0]"
  },
  "vscode": {
   "interpreter": {
    "hash": "916dbcbb3f70747c44a77c7bcd40155683ae19c65e1c03b4aa3499c5328201f1"
   }
  }
 },
 "nbformat": 4,
 "nbformat_minor": 5
}
