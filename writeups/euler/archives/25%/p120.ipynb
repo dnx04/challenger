{
 "cells": [
  {
   "cell_type": "markdown",
   "metadata": {},
   "source": [
    "# [Project Euler 120 - Square Remainders](https://projecteuler.net/problem=120)\n",
    "\n",
    "We assume that $n$ is odd for all cases of $a$ because if $n$ is even, $(a - 1)^n + (a + 1)^n \\equiv 2 \\pmod{a^2}$\n",
    "\n",
    "Apply binomial theorem to $(a - 1)^n$ and $(a + 1)^n$, we have $(a - 1)^n \\equiv an - 1 \\pmod{a^2}, (a + 1)^n \\equiv an + 1 \\pmod{a^2}$. So $$(a - 1)^n + (a + 1)^n \\equiv 2an \\pmod{a^2}.$$\n",
    "\n",
    "So the optimal $n$ for each $a$ will be the greatest one such that $2an \\le a^2$. Analytically, the maximum remainder possible for each $a$ will be $a^2 - a$ if $a$ is odd, and $a^2 - 2a$ if $a$ is even.\n",
    "\n",
    "One can extend the above solution to calculate the answer for arbitrarily large bound of $a$ easily."
   ]
  },
  {
   "cell_type": "code",
   "execution_count": 45,
   "metadata": {
    "vscode": {
     "languageId": "python"
    }
   },
   "outputs": [],
   "source": [
    "def p120(n):\n",
    "    ans = 0\n",
    "    for i in range(3, n + 1):\n",
    "        if i % 2 == 1:\n",
    "            ans += i^2 - i\n",
    "        else:\n",
    "            ans += i^2 - 2 * i\n",
    "    return ans"
   ]
  },
  {
   "cell_type": "code",
   "execution_count": 46,
   "metadata": {
    "vscode": {
     "languageId": "python"
    }
   },
   "outputs": [
    {
     "data": {
      "text/plain": [
       "333082500"
      ]
     },
     "execution_count": 46,
     "metadata": {},
     "output_type": "execute_result"
    }
   ],
   "source": [
    "p120(1000)"
   ]
  }
 ],
 "metadata": {
  "kernelspec": {
   "display_name": "SageMath 9.5",
   "language": "sage",
   "name": "sagemath"
  },
  "language_info": {
   "codemirror_mode": {
    "name": "ipython",
    "version": 3
   },
   "file_extension": ".py",
   "mimetype": "text/x-python",
   "name": "sage",
   "nbconvert_exporter": "python",
   "pygments_lexer": "ipython3",
   "version": "3.10.5"
  },
  "orig_nbformat": 4
 },
 "nbformat": 4,
 "nbformat_minor": 2
}
