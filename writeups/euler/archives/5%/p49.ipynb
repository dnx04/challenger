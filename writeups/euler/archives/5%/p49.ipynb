{
 "cells": [
  {
   "cell_type": "markdown",
   "metadata": {},
   "source": [
    "# [Project Euler 49 - Prime permutations](https://projecteuler.net/problem=49)"
   ]
  },
  {
   "cell_type": "code",
   "execution_count": 14,
   "metadata": {
    "vscode": {
     "languageId": "python"
    }
   },
   "outputs": [],
   "source": [
    "def p49():\n",
    "    for i in range(1000, 10000):\n",
    "        if is_prime(i) and i != 1487:\n",
    "            for d in range(1, 4500):\n",
    "                if i + 2 * d >= 10000:\n",
    "                    break\n",
    "                if is_prime(i + d) and is_prime(i + 2 * d) \\\n",
    "                and ''.join(sorted(str(i))) == ''.join(sorted(str(i + d))) == ''.join(sorted(str(i + 2 * d))):\n",
    "                    return ''.join([str(i), str(i + d), str(i + 2 * d)])"
   ]
  },
  {
   "cell_type": "code",
   "execution_count": 15,
   "metadata": {
    "vscode": {
     "languageId": "python"
    }
   },
   "outputs": [
    {
     "data": {
      "text/plain": [
       "'296962999629'"
      ]
     },
     "execution_count": 15,
     "metadata": {},
     "output_type": "execute_result"
    }
   ],
   "source": [
    "p49()"
   ]
  }
 ],
 "metadata": {
  "kernelspec": {
   "display_name": "SageMath 9.5",
   "language": "sage",
   "name": "sagemath"
  },
  "language_info": {
   "codemirror_mode": {
    "name": "ipython",
    "version": 3
   },
   "file_extension": ".py",
   "mimetype": "text/x-python",
   "name": "sage",
   "nbconvert_exporter": "python",
   "pygments_lexer": "ipython3",
   "version": "3.10.5"
  },
  "orig_nbformat": 4
 },
 "nbformat": 4,
 "nbformat_minor": 2
}
