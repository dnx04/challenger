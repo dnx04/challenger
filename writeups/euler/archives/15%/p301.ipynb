{
 "cells": [
  {
   "cell_type": "markdown",
   "metadata": {},
   "source": [
    "# Project Euler - 301\n",
    "\n",
    "By the Nim theorem, we can rephrase the problem statement as follows:\n",
    "\n",
    "> Find the number of $n \\le 2^{30}$ such that $n \\oplus 2n \\oplus 3n = 0$.\n",
    "\n",
    "Which means $n \\oplus 2n = n + 2n$. Multiplication by 2 means shifting right by 1 in binary form. Also, addition is carry, while XOR is not. \n",
    "\n",
    "So, the number of $n$ satisfies the equation equals to the number of binary strings with no two consecutive $1$.\n",
    "\n",
    "The answer for this problem is the familiar Fibonacci sequence. $f(i) = f(i - 1) + f(i - 2), f(0) = 1, f(1) = 2$."
   ]
  },
  {
   "cell_type": "code",
   "execution_count": 13,
   "metadata": {},
   "outputs": [],
   "source": [
    "def p301(n):\n",
    "    return fibonacci(n + 2)"
   ]
  },
  {
   "cell_type": "code",
   "execution_count": 14,
   "metadata": {},
   "outputs": [
    {
     "data": {
      "text/plain": [
       "2178309"
      ]
     },
     "execution_count": 14,
     "metadata": {},
     "output_type": "execute_result"
    }
   ],
   "source": [
    "p301(30)"
   ]
  }
 ],
 "metadata": {
  "kernelspec": {
   "display_name": "Python 3.10.5 ('.venv': venv)",
   "language": "python",
   "name": "python3"
  },
  "language_info": {
   "codemirror_mode": {
    "name": "ipython",
    "version": 3
   },
   "file_extension": ".py",
   "mimetype": "text/x-python",
   "name": "python",
   "nbconvert_exporter": "python",
   "pygments_lexer": "ipython3",
   "version": "3.10.5"
  },
  "orig_nbformat": 4,
  "vscode": {
   "interpreter": {
    "hash": "6d1d83bd288783166839eaf41cc899ee5b370f43f2d31bb90c4d7a970be842ab"
   }
  }
 },
 "nbformat": 4,
 "nbformat_minor": 2
}
