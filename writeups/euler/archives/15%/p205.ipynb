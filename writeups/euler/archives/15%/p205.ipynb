{
 "cells": [
  {
   "cell_type": "markdown",
   "metadata": {},
   "source": [
    "# [Project Euler 205 - Dice Game](https://projecteuler.net/problem=205)\n",
    "\n",
    "To calculate the number of cases with a fixed score for each player, polynomial convolution comes in handy."
   ]
  },
  {
   "cell_type": "code",
   "execution_count": 63,
   "metadata": {},
   "outputs": [],
   "source": [
    "def p205():\n",
    "    R = ZZ['x']\n",
    "    a = (R([0, 1, 1, 1, 1])^9).coefficients(sparse=False)\n",
    "    b = (R([0, 1, 1, 1, 1, 1, 1])^6).coefficients(sparse=False)\n",
    "    d = len(a)\n",
    "\n",
    "    res = 0\n",
    "    for i in range(d):\n",
    "        res += a[i] * sum(b[:i])\n",
    "    res /= sum(a) * sum(b)\n",
    "    return round(res, 7)"
   ]
  },
  {
   "cell_type": "code",
   "execution_count": 64,
   "metadata": {},
   "outputs": [
    {
     "data": {
      "text/plain": [
       "0.5731441"
      ]
     },
     "execution_count": 64,
     "metadata": {},
     "output_type": "execute_result"
    }
   ],
   "source": [
    "p205()"
   ]
  }
 ],
 "metadata": {
  "kernelspec": {
   "display_name": "Python 3.10.5 ('.venv': venv)",
   "language": "python",
   "name": "python3"
  },
  "language_info": {
   "codemirror_mode": {
    "name": "ipython",
    "version": 3
   },
   "file_extension": ".py",
   "mimetype": "text/x-python",
   "name": "python",
   "nbconvert_exporter": "python",
   "pygments_lexer": "ipython3",
   "version": "3.10.5"
  },
  "orig_nbformat": 4,
  "vscode": {
   "interpreter": {
    "hash": "6d1d83bd288783166839eaf41cc899ee5b370f43f2d31bb90c4d7a970be842ab"
   }
  }
 },
 "nbformat": 4,
 "nbformat_minor": 2
}
