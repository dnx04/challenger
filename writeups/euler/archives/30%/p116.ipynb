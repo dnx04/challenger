{
 "cells": [
  {
   "cell_type": "markdown",
   "metadata": {},
   "source": [
    "# [Project Euler 116 - Red, green, or blue tiles](https://projecteuler.net/problem=116)\n",
    "\n"
   ]
  },
  {
   "cell_type": "code",
   "execution_count": 82,
   "metadata": {},
   "outputs": [],
   "source": [
    "from functools import cache"
   ]
  },
  {
   "cell_type": "code",
   "execution_count": 83,
   "metadata": {},
   "outputs": [],
   "source": [
    "@cache\n",
    "def r(n):\n",
    "    if n < 0:\n",
    "        return 0\n",
    "    if n < 2:\n",
    "        return 1\n",
    "    return r(n - 1) + r(n - 2)\n",
    "\n",
    "@cache\n",
    "def g(n):\n",
    "    if n < 0:\n",
    "        return 0\n",
    "    if n < 3:\n",
    "        return 1\n",
    "    return g(n - 1) + g(n - 3)\n",
    "\n",
    "@cache\n",
    "def b(n):\n",
    "    if n < 0:\n",
    "        return 0\n",
    "    if n < 4:\n",
    "        return 1\n",
    "    return b(n - 1) + b(n - 4)\n",
    "\n",
    "def p116(n):\n",
    "    return r(n) + g(n) + b(n) - 3"
   ]
  },
  {
   "cell_type": "code",
   "execution_count": 84,
   "metadata": {},
   "outputs": [
    {
     "data": {
      "text/plain": [
       "20492570929"
      ]
     },
     "execution_count": 84,
     "metadata": {},
     "output_type": "execute_result"
    }
   ],
   "source": [
    "p116(50)"
   ]
  }
 ],
 "metadata": {
  "kernelspec": {
   "display_name": "Python 3.10.5 64-bit",
   "language": "python",
   "name": "python3"
  },
  "language_info": {
   "codemirror_mode": {
    "name": "ipython",
    "version": 3
   },
   "file_extension": ".py",
   "mimetype": "text/x-python",
   "name": "python",
   "nbconvert_exporter": "python",
   "pygments_lexer": "ipython3",
   "version": "3.10.5"
  },
  "orig_nbformat": 4,
  "vscode": {
   "interpreter": {
    "hash": "916dbcbb3f70747c44a77c7bcd40155683ae19c65e1c03b4aa3499c5328201f1"
   }
  }
 },
 "nbformat": 4,
 "nbformat_minor": 2
}
