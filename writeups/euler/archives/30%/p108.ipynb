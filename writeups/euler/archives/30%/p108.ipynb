{
 "cells": [
  {
   "cell_type": "markdown",
   "metadata": {},
   "source": [
    "# Project Euler 108 - Diophantine reciprocals I\n",
    "\n",
    "When the threshold is small, there is a fun and working solution.\n",
    "\n",
    "Assume $x \\le y$. We also have $x > n$ and $y > n$. So $x = n + a, y = n + b$. So $x, y$ can be uniquely determined by $a, b$.\n",
    "\n",
    "Replace them into the equation, we get $ab = n^2$. So the number of solutions for each $n$ is the number of divisor of $n^2$. "
   ]
  },
  {
   "cell_type": "code",
   "execution_count": 14,
   "metadata": {},
   "outputs": [],
   "source": [
    "def p108(threshold):\n",
    "    i = 1000\n",
    "    while True:\n",
    "        if number_of_divisors(i^2) > 2 * threshold:\n",
    "            return i\n",
    "        i += 1"
   ]
  },
  {
   "cell_type": "code",
   "execution_count": 15,
   "metadata": {},
   "outputs": [
    {
     "data": {
      "text/plain": [
       "180180"
      ]
     },
     "execution_count": 15,
     "metadata": {},
     "output_type": "execute_result"
    }
   ],
   "source": [
    "p108(10^3)"
   ]
  }
 ],
 "metadata": {
  "kernelspec": {
   "display_name": "SageMath 9.5",
   "language": "sage",
   "name": "sagemath"
  },
  "language_info": {
   "codemirror_mode": {
    "name": "ipython",
    "version": 3
   },
   "file_extension": ".py",
   "mimetype": "text/x-python",
   "name": "python",
   "nbconvert_exporter": "python",
   "pygments_lexer": "ipython3",
   "version": "3.10.5"
  },
  "orig_nbformat": 4
 },
 "nbformat": 4,
 "nbformat_minor": 2
}
