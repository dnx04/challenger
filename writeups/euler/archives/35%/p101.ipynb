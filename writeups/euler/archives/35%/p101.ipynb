{
 "cells": [
  {
   "cell_type": "markdown",
   "metadata": {},
   "source": [
    "# [Project Euler 101 - Optimum Polynomial](https://projecteuler.net/problem=101)\n",
    "\n",
    "For the first $k$ value generated from the generating function, we can generate a polynomial of degree $k - 1$ using Lagrange Interpolation. For each $k \\le 10$ we call this polynomial $p_k(x)$, the answer is the sum of $p_k(k)$. \n",
    "\n",
    "SageMath really comes in handy when handling symbolic math. It's Polynomial class simplified implementation a lot."
   ]
  },
  {
   "cell_type": "code",
   "execution_count": 1,
   "metadata": {},
   "outputs": [
    {
     "ename": "SyntaxError",
     "evalue": "invalid syntax (3711123097.py, line 2)",
     "output_type": "error",
     "traceback": [
      "\u001b[0;36m  Cell \u001b[0;32mIn [1], line 2\u001b[0;36m\u001b[0m\n\u001b[0;31m    R.<n> = QQ['n']\u001b[0m\n\u001b[0m      ^\u001b[0m\n\u001b[0;31mSyntaxError\u001b[0m\u001b[0;31m:\u001b[0m invalid syntax\n"
     ]
    }
   ],
   "source": [
    "# define a polynomial ring\n",
    "R.<n> = QQ['n']"
   ]
  },
  {
   "cell_type": "code",
   "execution_count": null,
   "metadata": {},
   "outputs": [],
   "source": [
    "def p101(P):\n",
    "    val = [(i, P(i)) for i in range(1, P.degree() + 1)]\n",
    "    ans = 0\n",
    "    for i in range(1, P.degree() + 1):\n",
    "        p = R.lagrange_polynomial(val[:i])\n",
    "        ans += p(i + 1)\n",
    "    return ans"
   ]
  },
  {
   "cell_type": "code",
   "execution_count": null,
   "metadata": {},
   "outputs": [
    {
     "data": {
      "text/plain": [
       "37076114526"
      ]
     },
     "execution_count": 6,
     "metadata": {},
     "output_type": "execute_result"
    }
   ],
   "source": [
    "u = R(1 - n + n^2 - n^3 + n^4 - n^5 + n^6 - n^7 + n^8 - n^9 + n^10)\n",
    "p101(u)"
   ]
  }
 ],
 "metadata": {
  "kernelspec": {
   "display_name": "Python 3",
   "language": "python",
   "name": "python3"
  },
  "language_info": {
   "codemirror_mode": {
    "name": "ipython",
    "version": 3
   },
   "file_extension": ".py",
   "mimetype": "text/x-python",
   "name": "python",
   "nbconvert_exporter": "python",
   "pygments_lexer": "ipython3",
   "version": "3.11.2"
  },
  "orig_nbformat": 4
 },
 "nbformat": 4,
 "nbformat_minor": 2
}
