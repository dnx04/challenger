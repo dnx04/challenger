{
 "cells": [
  {
   "cell_type": "markdown",
   "metadata": {},
   "source": [
    "# [Project Euler 294 - Sum of digits - experience #23](https://projecteuler.net/problem=294)"
   ]
  },
  {
   "cell_type": "code",
   "execution_count": 120,
   "metadata": {
    "vscode": {
     "languageId": "python"
    }
   },
   "outputs": [],
   "source": [
    "R = IntegerModRing(10^9)"
   ]
  },
  {
   "cell_type": "code",
   "execution_count": 121,
   "metadata": {
    "vscode": {
     "languageId": "python"
    }
   },
   "outputs": [],
   "source": [
    "def p294(n, m):\n",
    "    A = [[R(0) for i in range(m + 1)] for j in range(m + 1)]\n",
    "    res = [[R(0) for i in range(m + 1)] for j in range(m + 1)]\n",
    "    res[0][0] = 1\n",
    "    res = Matrix(res)\n",
    "    \n",
    "    A[0][0] = 1\n",
    "    for s in range(m + 1):\n",
    "        for r in range(m):\n",
    "            for d in range(10):\n",
    "                if s + d <= m:\n",
    "                    A[s + d][(r * 10 + d) % m] += A[s][r]\n",
    "    A = Matrix(A)\n",
    "    return (A^n)[m, 0]\n",
    "\n",
    "\n"
   ]
  },
  {
   "cell_type": "code",
   "execution_count": 122,
   "metadata": {
    "vscode": {
     "languageId": "python"
    }
   },
   "outputs": [
    {
     "data": {
      "text/plain": [
       "413588992"
      ]
     },
     "execution_count": 122,
     "metadata": {},
     "output_type": "execute_result"
    }
   ],
   "source": [
    "p294(9, 23)"
   ]
  }
 ],
 "metadata": {
  "kernelspec": {
   "display_name": "SageMath 9.5",
   "language": "sage",
   "name": "sagemath"
  },
  "language_info": {
   "codemirror_mode": {
    "name": "ipython",
    "version": 3
   },
   "file_extension": ".py",
   "mimetype": "text/x-python",
   "name": "sage",
   "nbconvert_exporter": "python",
   "pygments_lexer": "ipython3",
   "version": "3.10.5"
  },
  "orig_nbformat": 4
 },
 "nbformat": 4,
 "nbformat_minor": 2
}
